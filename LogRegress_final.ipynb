{
 "cells": [
  {
   "cell_type": "markdown",
   "id": "89448b7c-7bc2-4162-a5ce-7c0cb0f7c6c3",
   "metadata": {},
   "source": [
    "## Logistic Regression"
   ]
  },
  {
   "cell_type": "code",
   "execution_count": 2,
   "id": "b8998879-54e0-414e-824f-3f6060e544dc",
   "metadata": {},
   "outputs": [],
   "source": [
    "# import packages\n",
    "import pandas as pd\n",
    "\n",
    "from sklearn.neighbors import KNeighborsClassifier\n",
    "from sklearn.linear_model import Perceptron\n",
    "from sklearn.tree import DecisionTreeClassifier, plot_tree\n",
    "from sklearn.ensemble import RandomForestClassifier, ExtraTreesClassifier\n",
    "\n",
    "from sklearn.model_selection import cross_validate\n",
    "import sklearn.metrics as metrics\n",
    "from sklearn.feature_selection import chi2\n",
    "from sklearn.model_selection import train_test_split\n",
    "from sklearn.preprocessing import normalize\n",
    "\n",
    "from scipy import stats\n",
    "import numpy as np\n",
    "import matplotlib.pyplot as plt\n",
    "import seaborn as sns\n",
    "from matplotlib.colors import ListedColormap"
   ]
  },
  {
   "cell_type": "code",
   "execution_count": 3,
   "id": "ace768c0-3713-46b5-8837-44cda4aa310b",
   "metadata": {},
   "outputs": [
    {
     "name": "stderr",
     "output_type": "stream",
     "text": [
      "C:\\Users\\jakee\\AppData\\Roaming\\Python\\Python39\\site-packages\\IPython\\core\\interactiveshell.py:3444: DtypeWarning: Columns (6,8) have mixed types.Specify dtype option on import or set low_memory=False.\n",
      "  exec(code_obj, self.user_global_ns, self.user_ns)\n"
     ]
    }
   ],
   "source": [
    "# Read in data\n",
    "df = pd.read_csv(\"./Data/all-months-divvy-tripdata.csv\")"
   ]
  },
  {
   "cell_type": "code",
   "execution_count": 4,
   "id": "7a48d60b-8ab7-487d-af06-7eccfb96e92c",
   "metadata": {},
   "outputs": [
    {
     "data": {
      "text/html": [
       "<div>\n",
       "<style scoped>\n",
       "    .dataframe tbody tr th:only-of-type {\n",
       "        vertical-align: middle;\n",
       "    }\n",
       "\n",
       "    .dataframe tbody tr th {\n",
       "        vertical-align: top;\n",
       "    }\n",
       "\n",
       "    .dataframe thead th {\n",
       "        text-align: right;\n",
       "    }\n",
       "</style>\n",
       "<table border=\"1\" class=\"dataframe\">\n",
       "  <thead>\n",
       "    <tr style=\"text-align: right;\">\n",
       "      <th></th>\n",
       "      <th>Unnamed: 0</th>\n",
       "      <th>ride_id</th>\n",
       "      <th>rideable_type</th>\n",
       "      <th>started_at</th>\n",
       "      <th>ended_at</th>\n",
       "      <th>start_station_name</th>\n",
       "      <th>start_station_id</th>\n",
       "      <th>end_station_name</th>\n",
       "      <th>end_station_id</th>\n",
       "      <th>start_lat</th>\n",
       "      <th>start_lng</th>\n",
       "      <th>end_lat</th>\n",
       "      <th>end_lng</th>\n",
       "      <th>member_casual</th>\n",
       "      <th>s</th>\n",
       "      <th>Unnamed: 13</th>\n",
       "      <th>duration</th>\n",
       "      <th>distance</th>\n",
       "      <th>start_hour</th>\n",
       "      <th>end_hour</th>\n",
       "      <th>temp</th>\n",
       "      <th>precip</th>\n",
       "      <th>humid</th>\n",
       "      <th>snow_depth</th>\n",
       "    </tr>\n",
       "  </thead>\n",
       "  <tbody>\n",
       "    <tr>\n",
       "      <th>0</th>\n",
       "      <td>0</td>\n",
       "      <td>B9F73448DFBE0D45</td>\n",
       "      <td>classic_bike</td>\n",
       "      <td>1/24/2021 19:15</td>\n",
       "      <td>1/24/2021 19:22</td>\n",
       "      <td>California Ave &amp; Cortez St</td>\n",
       "      <td>17660</td>\n",
       "      <td>Wood St &amp; Augusta Blvd</td>\n",
       "      <td>657</td>\n",
       "      <td>41.900363</td>\n",
       "      <td>-87.696704</td>\n",
       "      <td>41.899181</td>\n",
       "      <td>-87.672200</td>\n",
       "      <td>member</td>\n",
       "      <td>NaN</td>\n",
       "      <td>NaN</td>\n",
       "      <td>7.0</td>\n",
       "      <td>1.266101</td>\n",
       "      <td>19.250000</td>\n",
       "      <td>19.366667</td>\n",
       "      <td>33.5</td>\n",
       "      <td>0.0</td>\n",
       "      <td>69.21</td>\n",
       "      <td>0.00</td>\n",
       "    </tr>\n",
       "    <tr>\n",
       "      <th>1</th>\n",
       "      <td>1</td>\n",
       "      <td>457C7F4B5D3DA135</td>\n",
       "      <td>electric_bike</td>\n",
       "      <td>1/23/2021 12:57</td>\n",
       "      <td>1/23/2021 13:02</td>\n",
       "      <td>California Ave &amp; Cortez St</td>\n",
       "      <td>17660</td>\n",
       "      <td>California Ave &amp; North Ave</td>\n",
       "      <td>13258</td>\n",
       "      <td>41.900406</td>\n",
       "      <td>-87.696733</td>\n",
       "      <td>41.910435</td>\n",
       "      <td>-87.696890</td>\n",
       "      <td>member</td>\n",
       "      <td>NaN</td>\n",
       "      <td>NaN</td>\n",
       "      <td>5.0</td>\n",
       "      <td>0.692238</td>\n",
       "      <td>12.950000</td>\n",
       "      <td>13.033333</td>\n",
       "      <td>26.6</td>\n",
       "      <td>0.0</td>\n",
       "      <td>41.83</td>\n",
       "      <td>0.00</td>\n",
       "    </tr>\n",
       "    <tr>\n",
       "      <th>2</th>\n",
       "      <td>2</td>\n",
       "      <td>57C750326F9FDABE</td>\n",
       "      <td>electric_bike</td>\n",
       "      <td>1/9/2021 15:28</td>\n",
       "      <td>1/9/2021 15:37</td>\n",
       "      <td>California Ave &amp; Cortez St</td>\n",
       "      <td>17660</td>\n",
       "      <td>Wood St &amp; Augusta Blvd</td>\n",
       "      <td>657</td>\n",
       "      <td>41.900374</td>\n",
       "      <td>-87.696688</td>\n",
       "      <td>41.899180</td>\n",
       "      <td>-87.672178</td>\n",
       "      <td>casual</td>\n",
       "      <td>NaN</td>\n",
       "      <td>NaN</td>\n",
       "      <td>9.0</td>\n",
       "      <td>1.266479</td>\n",
       "      <td>15.466667</td>\n",
       "      <td>15.616667</td>\n",
       "      <td>37.5</td>\n",
       "      <td>0.0</td>\n",
       "      <td>55.02</td>\n",
       "      <td>0.39</td>\n",
       "    </tr>\n",
       "    <tr>\n",
       "      <th>3</th>\n",
       "      <td>3</td>\n",
       "      <td>4D518C65E338D070</td>\n",
       "      <td>electric_bike</td>\n",
       "      <td>1/9/2021 15:28</td>\n",
       "      <td>1/9/2021 15:37</td>\n",
       "      <td>California Ave &amp; Cortez St</td>\n",
       "      <td>17660</td>\n",
       "      <td>Wood St &amp; Augusta Blvd</td>\n",
       "      <td>657</td>\n",
       "      <td>41.900379</td>\n",
       "      <td>-87.696716</td>\n",
       "      <td>41.899149</td>\n",
       "      <td>-87.672177</td>\n",
       "      <td>casual</td>\n",
       "      <td>NaN</td>\n",
       "      <td>NaN</td>\n",
       "      <td>9.0</td>\n",
       "      <td>1.268119</td>\n",
       "      <td>15.466667</td>\n",
       "      <td>15.616667</td>\n",
       "      <td>37.5</td>\n",
       "      <td>0.0</td>\n",
       "      <td>55.02</td>\n",
       "      <td>0.39</td>\n",
       "    </tr>\n",
       "    <tr>\n",
       "      <th>4</th>\n",
       "      <td>4</td>\n",
       "      <td>9D08A3AFF410474D</td>\n",
       "      <td>classic_bike</td>\n",
       "      <td>1/24/2021 15:56</td>\n",
       "      <td>1/24/2021 16:07</td>\n",
       "      <td>California Ave &amp; Cortez St</td>\n",
       "      <td>17660</td>\n",
       "      <td>Wood St &amp; Augusta Blvd</td>\n",
       "      <td>657</td>\n",
       "      <td>41.900363</td>\n",
       "      <td>-87.696704</td>\n",
       "      <td>41.899181</td>\n",
       "      <td>-87.672200</td>\n",
       "      <td>casual</td>\n",
       "      <td>NaN</td>\n",
       "      <td>NaN</td>\n",
       "      <td>11.0</td>\n",
       "      <td>1.266101</td>\n",
       "      <td>15.933333</td>\n",
       "      <td>16.116667</td>\n",
       "      <td>34.1</td>\n",
       "      <td>0.0</td>\n",
       "      <td>65.50</td>\n",
       "      <td>0.00</td>\n",
       "    </tr>\n",
       "  </tbody>\n",
       "</table>\n",
       "</div>"
      ],
      "text/plain": [
       "   Unnamed: 0           ride_id  rideable_type       started_at  \\\n",
       "0           0  B9F73448DFBE0D45   classic_bike  1/24/2021 19:15   \n",
       "1           1  457C7F4B5D3DA135  electric_bike  1/23/2021 12:57   \n",
       "2           2  57C750326F9FDABE  electric_bike   1/9/2021 15:28   \n",
       "3           3  4D518C65E338D070  electric_bike   1/9/2021 15:28   \n",
       "4           4  9D08A3AFF410474D   classic_bike  1/24/2021 15:56   \n",
       "\n",
       "          ended_at          start_station_name start_station_id  \\\n",
       "0  1/24/2021 19:22  California Ave & Cortez St            17660   \n",
       "1  1/23/2021 13:02  California Ave & Cortez St            17660   \n",
       "2   1/9/2021 15:37  California Ave & Cortez St            17660   \n",
       "3   1/9/2021 15:37  California Ave & Cortez St            17660   \n",
       "4  1/24/2021 16:07  California Ave & Cortez St            17660   \n",
       "\n",
       "             end_station_name end_station_id  start_lat  start_lng    end_lat  \\\n",
       "0      Wood St & Augusta Blvd            657  41.900363 -87.696704  41.899181   \n",
       "1  California Ave & North Ave          13258  41.900406 -87.696733  41.910435   \n",
       "2      Wood St & Augusta Blvd            657  41.900374 -87.696688  41.899180   \n",
       "3      Wood St & Augusta Blvd            657  41.900379 -87.696716  41.899149   \n",
       "4      Wood St & Augusta Blvd            657  41.900363 -87.696704  41.899181   \n",
       "\n",
       "     end_lng member_casual   s  Unnamed: 13  duration  distance  start_hour  \\\n",
       "0 -87.672200        member NaN          NaN       7.0  1.266101   19.250000   \n",
       "1 -87.696890        member NaN          NaN       5.0  0.692238   12.950000   \n",
       "2 -87.672178        casual NaN          NaN       9.0  1.266479   15.466667   \n",
       "3 -87.672177        casual NaN          NaN       9.0  1.268119   15.466667   \n",
       "4 -87.672200        casual NaN          NaN      11.0  1.266101   15.933333   \n",
       "\n",
       "    end_hour  temp  precip  humid  snow_depth  \n",
       "0  19.366667  33.5     0.0  69.21        0.00  \n",
       "1  13.033333  26.6     0.0  41.83        0.00  \n",
       "2  15.616667  37.5     0.0  55.02        0.39  \n",
       "3  15.616667  37.5     0.0  55.02        0.39  \n",
       "4  16.116667  34.1     0.0  65.50        0.00  "
      ]
     },
     "execution_count": 4,
     "metadata": {},
     "output_type": "execute_result"
    }
   ],
   "source": [
    "pd.set_option('display.max_columns', None)\n",
    "df.head()"
   ]
  },
  {
   "cell_type": "markdown",
   "id": "47917cd0-f936-41e5-9ea4-621c383c356c",
   "metadata": {},
   "source": [
    "## Feature Engineering"
   ]
  },
  {
   "cell_type": "code",
   "execution_count": 42,
   "id": "ed2a2a28-e8d1-43a7-86da-086a5bf39467",
   "metadata": {},
   "outputs": [],
   "source": [
    "# Make sure all station ids are numbers\n",
    "def id_fix(id_n):\n",
    "    return id_n if isinstance(id_n, int) or id_n.isdigit() else 0\n",
    "    \n",
    "df[\"start_station_id\"] = df[\"start_station_id\"].apply(id_fix)\n",
    "\n"
   ]
  },
  {
   "cell_type": "code",
   "execution_count": 6,
   "id": "7a48eac5-49e9-4c3b-86a1-26280d22d421",
   "metadata": {},
   "outputs": [],
   "source": [
    "# Create new column to store member as binary variable\n",
    "def mem_cas(mem):\n",
    "    return mem == \"member\"\n",
    "\n",
    "df[\"mem_cas_bool\"] = df[\"member_casual\"].apply(mem_cas)"
   ]
  },
  {
   "cell_type": "code",
   "execution_count": 7,
   "id": "8a834cbf-c216-4cd7-a841-285276350429",
   "metadata": {},
   "outputs": [],
   "source": [
    "# Bin latitude and longitude\n",
    "\n",
    "from sklearn.preprocessing import KBinsDiscretizer\n",
    "\n",
    "est = KBinsDiscretizer(n_bins=10, encode='ordinal', strategy='uniform')\n",
    "\n",
    "df[\"bin_lat\"] = est.fit_transform(np.array(df[\"start_lat\"]).reshape(-1, 1))\n",
    "df[\"bin_lng\"] = est.fit_transform(np.array(df[\"start_lng\"]).reshape(-1, 1))\n"
   ]
  },
  {
   "cell_type": "code",
   "execution_count": 29,
   "id": "d9770a42-9511-4d1e-a576-698bcc595263",
   "metadata": {},
   "outputs": [],
   "source": [
    "# Create new column to store ride type as int\n",
    "\n",
    "def rideTypeToInt(rType):\n",
    "    if rType == 'classic_bike':\n",
    "        return 0\n",
    "    elif rType == 'electric_bike':\n",
    "        return 1\n",
    "    else:\n",
    "        return 2\n",
    "    \n",
    "df[\"ride_type_int\"] = df[\"rideable_type\"].apply(rideTypeToInt)\n"
   ]
  },
  {
   "cell_type": "code",
   "execution_count": 30,
   "id": "7c09ac74-ca0a-4024-b80d-6099ee5cc500",
   "metadata": {},
   "outputs": [],
   "source": [
    "# Bin temperature\n",
    "\n",
    "from sklearn.preprocessing import KBinsDiscretizer\n",
    "\n",
    "est = KBinsDiscretizer(n_bins=4, encode='ordinal', strategy='uniform')\n",
    "df[\"temp_bins\"] = est.fit_transform(np.array(df[\"temp\"]).reshape(-1, 1))"
   ]
  },
  {
   "cell_type": "code",
   "execution_count": 41,
   "id": "6aa8c061-efed-4fd0-b94d-edfef4fb4b1b",
   "metadata": {},
   "outputs": [],
   "source": [
    "# Create new binary column for if its a weekend\n",
    "\n",
    "df['datetime'] = df.apply(lambda x : x['started_at'].split(' ')[0], axis=1)\n",
    "df['datetime'] = df['datetime'].apply(lambda x : x.split('/')[2] + '-' + ('0' + x.split('/')[0])[-2:] + '-' + ('0' + x.split('/')[1])[-2:])\n",
    "ride_date_weekend_bool = {} # key: ride_date, value: 1 if the date is a Saturday, Sunday, or holiday, else 0\n",
    "holidays = ['2020-01-01', '2020-01-20', '2020-05-25', '2020-07-03', '2020-09-07', '2020-11-11', '2020-11-26', '2020-12-25',\n",
    "            '2021-01-01', '2020-01-18', '2021-05-31', '2021-07-05', '2021-09-06', '2021-11-11', '2021-11-25', '2021-12-24', '2021-12-31']\n",
    "\n",
    "def is_wkd(date):\n",
    "    current_timestamp = pd.Timestamp(date)\n",
    "    return current_timestamp.dayofweek in [5,6] or date in holidays\n",
    "\n",
    "\n",
    "df['weekend_or_holiday'] = df[\"datetime\"].apply(is_wkd)"
   ]
  },
  {
   "cell_type": "code",
   "execution_count": 32,
   "id": "5f6ec7ce-525b-40ed-b7ce-85822ef69468",
   "metadata": {},
   "outputs": [],
   "source": [
    "# Create binary column for if the trip is a round trip\n",
    "\n",
    "def is_rnd(startid, endid):\n",
    "    return startid == endid\n",
    "\n",
    "\n",
    "df[\"is_round\"] = df.apply(lambda x: is_rnd(x[\"start_station_id\"], x[\"end_station_id\"]), axis=1)"
   ]
  },
  {
   "cell_type": "markdown",
   "id": "ad3c7721-53d1-4def-a97a-d802e0ea2eea",
   "metadata": {},
   "source": [
    "## Additional EDA"
   ]
  },
  {
   "cell_type": "code",
   "execution_count": 36,
   "id": "5f9b8958-a7f1-410b-880a-e74e861d89ae",
   "metadata": {},
   "outputs": [
    {
     "data": {
      "text/html": [
       "<div>\n",
       "<style scoped>\n",
       "    .dataframe tbody tr th:only-of-type {\n",
       "        vertical-align: middle;\n",
       "    }\n",
       "\n",
       "    .dataframe tbody tr th {\n",
       "        vertical-align: top;\n",
       "    }\n",
       "\n",
       "    .dataframe thead th {\n",
       "        text-align: right;\n",
       "    }\n",
       "</style>\n",
       "<table border=\"1\" class=\"dataframe\">\n",
       "  <thead>\n",
       "    <tr style=\"text-align: right;\">\n",
       "      <th></th>\n",
       "      <th>is_round</th>\n",
       "      <th>start_hour</th>\n",
       "      <th>mem_cas_bool</th>\n",
       "      <th>ride_type_int</th>\n",
       "      <th>bin_lat</th>\n",
       "      <th>bin_lng</th>\n",
       "      <th>weekend_or_holiday</th>\n",
       "    </tr>\n",
       "  </thead>\n",
       "  <tbody>\n",
       "    <tr>\n",
       "      <th>is_round</th>\n",
       "      <td>1.000000</td>\n",
       "      <td>0.023307</td>\n",
       "      <td>-0.208569</td>\n",
       "      <td>0.224054</td>\n",
       "      <td>-0.053311</td>\n",
       "      <td>-0.024993</td>\n",
       "      <td>0.042603</td>\n",
       "    </tr>\n",
       "    <tr>\n",
       "      <th>start_hour</th>\n",
       "      <td>0.023307</td>\n",
       "      <td>1.000000</td>\n",
       "      <td>-0.061861</td>\n",
       "      <td>0.044063</td>\n",
       "      <td>0.001446</td>\n",
       "      <td>0.019602</td>\n",
       "      <td>-0.066854</td>\n",
       "    </tr>\n",
       "    <tr>\n",
       "      <th>mem_cas_bool</th>\n",
       "      <td>-0.208569</td>\n",
       "      <td>-0.061861</td>\n",
       "      <td>1.000000</td>\n",
       "      <td>-0.197699</td>\n",
       "      <td>0.041031</td>\n",
       "      <td>-0.031302</td>\n",
       "      <td>-0.129228</td>\n",
       "    </tr>\n",
       "    <tr>\n",
       "      <th>ride_type_int</th>\n",
       "      <td>0.224054</td>\n",
       "      <td>0.044063</td>\n",
       "      <td>-0.197699</td>\n",
       "      <td>1.000000</td>\n",
       "      <td>0.006794</td>\n",
       "      <td>0.034475</td>\n",
       "      <td>0.056280</td>\n",
       "    </tr>\n",
       "    <tr>\n",
       "      <th>bin_lat</th>\n",
       "      <td>-0.053311</td>\n",
       "      <td>0.001446</td>\n",
       "      <td>0.041031</td>\n",
       "      <td>0.006794</td>\n",
       "      <td>1.000000</td>\n",
       "      <td>-0.528711</td>\n",
       "      <td>0.027072</td>\n",
       "    </tr>\n",
       "    <tr>\n",
       "      <th>bin_lng</th>\n",
       "      <td>-0.024993</td>\n",
       "      <td>0.019602</td>\n",
       "      <td>-0.031302</td>\n",
       "      <td>0.034475</td>\n",
       "      <td>-0.528711</td>\n",
       "      <td>1.000000</td>\n",
       "      <td>0.033782</td>\n",
       "    </tr>\n",
       "    <tr>\n",
       "      <th>weekend_or_holiday</th>\n",
       "      <td>0.042603</td>\n",
       "      <td>-0.066854</td>\n",
       "      <td>-0.129228</td>\n",
       "      <td>0.056280</td>\n",
       "      <td>0.027072</td>\n",
       "      <td>0.033782</td>\n",
       "      <td>1.000000</td>\n",
       "    </tr>\n",
       "  </tbody>\n",
       "</table>\n",
       "</div>"
      ],
      "text/plain": [
       "                    is_round  start_hour  mem_cas_bool  ride_type_int  \\\n",
       "is_round            1.000000    0.023307     -0.208569       0.224054   \n",
       "start_hour          0.023307    1.000000     -0.061861       0.044063   \n",
       "mem_cas_bool       -0.208569   -0.061861      1.000000      -0.197699   \n",
       "ride_type_int       0.224054    0.044063     -0.197699       1.000000   \n",
       "bin_lat            -0.053311    0.001446      0.041031       0.006794   \n",
       "bin_lng            -0.024993    0.019602     -0.031302       0.034475   \n",
       "weekend_or_holiday  0.042603   -0.066854     -0.129228       0.056280   \n",
       "\n",
       "                     bin_lat   bin_lng  weekend_or_holiday  \n",
       "is_round           -0.053311 -0.024993            0.042603  \n",
       "start_hour          0.001446  0.019602           -0.066854  \n",
       "mem_cas_bool        0.041031 -0.031302           -0.129228  \n",
       "ride_type_int       0.006794  0.034475            0.056280  \n",
       "bin_lat             1.000000 -0.528711            0.027072  \n",
       "bin_lng            -0.528711  1.000000            0.033782  \n",
       "weekend_or_holiday  0.027072  0.033782            1.000000  "
      ]
     },
     "execution_count": 36,
     "metadata": {},
     "output_type": "execute_result"
    }
   ],
   "source": [
    "# Calculate correlation coefficients between variables for EDA purposes\n",
    "df[[\"is_round\", \"start_hour\", \"mem_cas_bool\", \"ride_type_int\", \"bin_lat\", \"bin_lng\",\"weekend_or_holiday\"]].corr()"
   ]
  },
  {
   "cell_type": "code",
   "execution_count": 35,
   "id": "15e508fe-e3e9-48e8-bf3e-6e469d2bc73b",
   "metadata": {},
   "outputs": [
    {
     "data": {
      "text/plain": [
       "5.3807357401428435"
      ]
     },
     "execution_count": 35,
     "metadata": {},
     "output_type": "execute_result"
    }
   ],
   "source": [
    "# Calculate ratio of round trips to one way for EDA purposes\n",
    "len(df[df[\"is_round\"] == 0]) / len(df[df[\"is_round\"] == 1])"
   ]
  },
  {
   "cell_type": "markdown",
   "id": "9c96f807-4580-4880-a071-4084771dad64",
   "metadata": {},
   "source": [
    "## Create, fit, and test Model for predicting round trip"
   ]
  },
  {
   "cell_type": "code",
   "execution_count": 33,
   "id": "79cd3cc3-9a7e-4e4f-b0c5-775b5b0900b4",
   "metadata": {},
   "outputs": [],
   "source": [
    "# Create Array for Training data\n",
    "\n",
    "X = df[[\"start_hour\", \"mem_cas_bool\", \"bin_lat\", \"bin_lng\", \"ride_type_int\", \"weekend_or_holiday\"]]"
   ]
  },
  {
   "cell_type": "code",
   "execution_count": 34,
   "id": "9da42a9b-78e0-496f-bbce-34dd3ea5efb9",
   "metadata": {},
   "outputs": [
    {
     "data": {
      "text/plain": [
       "0.7542909141429209"
      ]
     },
     "execution_count": 34,
     "metadata": {},
     "output_type": "execute_result"
    }
   ],
   "source": [
    "# Standardize features and create model\n",
    "\n",
    "from sklearn.preprocessing import MinMaxScaler\n",
    "from sklearn.model_selection import cross_validate\n",
    "from sklearn.linear_model import LogisticRegression\n",
    "\n",
    "mms = MinMaxScaler()\n",
    "\n",
    "X_new = mms.fit_transform(X)\n",
    "\n",
    "lr1 = LogisticRegression(random_state=0, solver='saga', penalty=\"l2\")\n",
    "cv_results1 = cross_validate(lr1, X_new, df[\"is_round\"], scoring=\"roc_auc\", cv=5)\n",
    "\n",
    "cv_results1[\"test_score\"].mean()"
   ]
  },
  {
   "cell_type": "markdown",
   "id": "c1a049a0-ab57-44ec-a8dd-79ea9d9845f4",
   "metadata": {},
   "source": [
    "## Second Model"
   ]
  },
  {
   "cell_type": "code",
   "execution_count": 44,
   "id": "1e0cd153-fcdf-4b4f-8b8f-82820a5f33ba",
   "metadata": {},
   "outputs": [],
   "source": [
    "# Create new column to stor binary for if the duration is greater than 30 minutes\n",
    "\n",
    "def is_long_trip(dur):\n",
    "    return dur > 30\n",
    "\n",
    "\n",
    "df['binary_duration'] = df[\"duration\"].apply(is_long_trip)\n"
   ]
  },
  {
   "cell_type": "code",
   "execution_count": 40,
   "id": "fe0fc42e-f41b-4d31-a03d-5ea36d4745b3",
   "metadata": {},
   "outputs": [
    {
     "data": {
      "text/html": [
       "<div>\n",
       "<style scoped>\n",
       "    .dataframe tbody tr th:only-of-type {\n",
       "        vertical-align: middle;\n",
       "    }\n",
       "\n",
       "    .dataframe tbody tr th {\n",
       "        vertical-align: top;\n",
       "    }\n",
       "\n",
       "    .dataframe thead th {\n",
       "        text-align: right;\n",
       "    }\n",
       "</style>\n",
       "<table border=\"1\" class=\"dataframe\">\n",
       "  <thead>\n",
       "    <tr style=\"text-align: right;\">\n",
       "      <th></th>\n",
       "      <th>binary_duration</th>\n",
       "      <th>start_hour</th>\n",
       "      <th>mem_cas_bool</th>\n",
       "      <th>ride_type_int</th>\n",
       "      <th>bin_lat</th>\n",
       "      <th>bin_lng</th>\n",
       "      <th>weekend_or_holiday</th>\n",
       "    </tr>\n",
       "  </thead>\n",
       "  <tbody>\n",
       "    <tr>\n",
       "      <th>binary_duration</th>\n",
       "      <td>1.000000</td>\n",
       "      <td>0.038239</td>\n",
       "      <td>-0.302036</td>\n",
       "      <td>0.346792</td>\n",
       "      <td>-0.061757</td>\n",
       "      <td>0.117053</td>\n",
       "      <td>0.159225</td>\n",
       "    </tr>\n",
       "    <tr>\n",
       "      <th>start_hour</th>\n",
       "      <td>0.038239</td>\n",
       "      <td>1.000000</td>\n",
       "      <td>-0.061861</td>\n",
       "      <td>0.044063</td>\n",
       "      <td>0.001446</td>\n",
       "      <td>0.019602</td>\n",
       "      <td>-0.066854</td>\n",
       "    </tr>\n",
       "    <tr>\n",
       "      <th>mem_cas_bool</th>\n",
       "      <td>-0.302036</td>\n",
       "      <td>-0.061861</td>\n",
       "      <td>1.000000</td>\n",
       "      <td>-0.197699</td>\n",
       "      <td>0.041031</td>\n",
       "      <td>-0.031302</td>\n",
       "      <td>-0.129228</td>\n",
       "    </tr>\n",
       "    <tr>\n",
       "      <th>ride_type_int</th>\n",
       "      <td>0.346792</td>\n",
       "      <td>0.044063</td>\n",
       "      <td>-0.197699</td>\n",
       "      <td>1.000000</td>\n",
       "      <td>0.006794</td>\n",
       "      <td>0.034475</td>\n",
       "      <td>0.056280</td>\n",
       "    </tr>\n",
       "    <tr>\n",
       "      <th>bin_lat</th>\n",
       "      <td>-0.061757</td>\n",
       "      <td>0.001446</td>\n",
       "      <td>0.041031</td>\n",
       "      <td>0.006794</td>\n",
       "      <td>1.000000</td>\n",
       "      <td>-0.528711</td>\n",
       "      <td>0.027072</td>\n",
       "    </tr>\n",
       "    <tr>\n",
       "      <th>bin_lng</th>\n",
       "      <td>0.117053</td>\n",
       "      <td>0.019602</td>\n",
       "      <td>-0.031302</td>\n",
       "      <td>0.034475</td>\n",
       "      <td>-0.528711</td>\n",
       "      <td>1.000000</td>\n",
       "      <td>0.033782</td>\n",
       "    </tr>\n",
       "    <tr>\n",
       "      <th>weekend_or_holiday</th>\n",
       "      <td>0.159225</td>\n",
       "      <td>-0.066854</td>\n",
       "      <td>-0.129228</td>\n",
       "      <td>0.056280</td>\n",
       "      <td>0.027072</td>\n",
       "      <td>0.033782</td>\n",
       "      <td>1.000000</td>\n",
       "    </tr>\n",
       "  </tbody>\n",
       "</table>\n",
       "</div>"
      ],
      "text/plain": [
       "                    binary_duration  start_hour  mem_cas_bool  ride_type_int  \\\n",
       "binary_duration            1.000000    0.038239     -0.302036       0.346792   \n",
       "start_hour                 0.038239    1.000000     -0.061861       0.044063   \n",
       "mem_cas_bool              -0.302036   -0.061861      1.000000      -0.197699   \n",
       "ride_type_int              0.346792    0.044063     -0.197699       1.000000   \n",
       "bin_lat                   -0.061757    0.001446      0.041031       0.006794   \n",
       "bin_lng                    0.117053    0.019602     -0.031302       0.034475   \n",
       "weekend_or_holiday         0.159225   -0.066854     -0.129228       0.056280   \n",
       "\n",
       "                     bin_lat   bin_lng  weekend_or_holiday  \n",
       "binary_duration    -0.061757  0.117053            0.159225  \n",
       "start_hour          0.001446  0.019602           -0.066854  \n",
       "mem_cas_bool        0.041031 -0.031302           -0.129228  \n",
       "ride_type_int       0.006794  0.034475            0.056280  \n",
       "bin_lat             1.000000 -0.528711            0.027072  \n",
       "bin_lng            -0.528711  1.000000            0.033782  \n",
       "weekend_or_holiday  0.027072  0.033782            1.000000  "
      ]
     },
     "execution_count": 40,
     "metadata": {},
     "output_type": "execute_result"
    }
   ],
   "source": [
    "df[[\"binary_duration\", \"start_hour\", \"mem_cas_bool\", \"ride_type_int\", \"bin_lat\", \"bin_lng\", \"weekend_or_holiday\"]].corr()"
   ]
  },
  {
   "cell_type": "code",
   "execution_count": 38,
   "id": "8b8f7ac0-f3dc-4736-8d34-f604aaeee9d5",
   "metadata": {},
   "outputs": [
    {
     "data": {
      "text/plain": [
       "2.0180711740478503"
      ]
     },
     "execution_count": 38,
     "metadata": {},
     "output_type": "execute_result"
    }
   ],
   "source": [
    "len(df[df[\"binary_duration\"] == 0]) / len(df[df[\"binary_duration\"] == 1])\n"
   ]
  },
  {
   "cell_type": "markdown",
   "id": "71860d89-44bd-4aa0-a7d2-ae0ee053c03f",
   "metadata": {},
   "source": [
    "## Create, fit, and test model for predicting duration of trip"
   ]
  },
  {
   "cell_type": "code",
   "execution_count": 39,
   "id": "6298bbc5-0b5b-4b9d-8708-27ffa121e0da",
   "metadata": {},
   "outputs": [
    {
     "data": {
      "text/plain": [
       "0.8009696111773712"
      ]
     },
     "execution_count": 39,
     "metadata": {},
     "output_type": "execute_result"
    }
   ],
   "source": [
    "#Instansiate model and calculate score\n",
    "\n",
    "lr1 = LogisticRegression(random_state=0, solver='saga')\n",
    "cv_results1 = cross_validate(lr1, X_new, df[\"binary_duration\"], scoring=\"roc_auc\", cv=5)\n",
    "\n",
    "cv_results1[\"test_score\"].mean()\n",
    "\n"
   ]
  },
  {
   "cell_type": "markdown",
   "id": "08557693-ee9e-4a89-87b2-e41056133383",
   "metadata": {},
   "source": [
    "## Test Ensemble"
   ]
  },
  {
   "cell_type": "code",
   "execution_count": 34,
   "id": "7db5204d-20ef-4e1c-bbec-f902b15bf3dd",
   "metadata": {},
   "outputs": [
    {
     "name": "stdout",
     "output_type": "stream",
     "text": [
      "Random Forest Classifier f1 score: 0.535613052206708\n",
      "Extremely Randomized Trees Classifier f1 score: 0.5259943046938094\n",
      "Adaboost Classifier f1 score: 0.6141204761195426\n",
      "Gradient Boosting Classifier f1 score: 0.6123444859776104\n",
      "Histogram-Based Gradient Boosting Classifier f1 score: 0.611467032803535\n"
     ]
    }
   ],
   "source": [
    "# Test ensemble methods to compare accuracy\n",
    "\n",
    "from sklearn.ensemble import RandomForestClassifier\n",
    "from sklearn.ensemble import ExtraTreesClassifier\n",
    "from sklearn.ensemble import AdaBoostClassifier\n",
    "from sklearn.ensemble import GradientBoostingClassifier\n",
    "from sklearn.experimental import enable_hist_gradient_boosting\n",
    "from sklearn.ensemble import HistGradientBoostingClassifier\n",
    "\n",
    "\n",
    "\n",
    "clf = RandomForestClassifier(n_estimators=10, random_state=0)\n",
    "print(\"Random Forest Classifier f1 score: \" + str(cross_validate(clf, X, df[\"binary_duration\"], scoring=\"f1\", cv=5)['test_score'].mean()))\n",
    "\n",
    "clf = ExtraTreesClassifier(n_estimators=10, max_depth=None, min_samples_split=2, random_state=0)\n",
    "print(\"Extremely Randomized Trees Classifier f1 score: \" + str(cross_validate(clf, X, df[\"binary_duration\"], scoring=\"f1\", cv=5)['test_score'].mean()))\n",
    "\n",
    "clf = AdaBoostClassifier(n_estimators=100, random_state=0)\n",
    "print(\"Adaboost Classifier f1 score: \" + str(cross_validate(clf, X, df[\"binary_duration\"], scoring=\"f1\", cv=5)['test_score'].mean()))\n",
    "\n",
    "clf = GradientBoostingClassifier(n_estimators=100, random_state=0)\n",
    "print(\"Gradient Boosting Classifier f1 score: \" + str(cross_validate(clf, X, df[\"binary_duration\"], scoring=\"f1\", cv=5)['test_score'].mean()))\n",
    "\n",
    "clf = HistGradientBoostingClassifier(max_iter=100, random_state=0)\n",
    "print(\"Histogram-Based Gradient Boosting Classifier f1 score: \" + str(cross_validate(clf, X, df[\"binary_duration\"], scoring=\"f1\", cv=5)['test_score'].mean()))"
   ]
  },
  {
   "cell_type": "markdown",
   "id": "c6b41b07-8c4a-41ae-887f-e4595ffea062",
   "metadata": {},
   "source": [
    "## Additional Visualization"
   ]
  },
  {
   "cell_type": "code",
   "execution_count": 20,
   "id": "397b0592-975a-4211-bed4-57b2f38cfd25",
   "metadata": {},
   "outputs": [
    {
     "data": {
      "image/png": "[encoded data removed]",
      "text/plain": [
       "<Figure size 432x288 with 1 Axes>"
      ]
     },
     "metadata": {
      "needs_background": "light"
     },
     "output_type": "display_data"
    }
   ],
   "source": [
    "fig = plt.figure()\n",
    "ax = fig.add_axes([0,0,1,1])\n",
    "plt.title(\"Ride type\")\n",
    "langs = ['One Way', 'Round Trip']  \n",
    "x = np.arange(len(langs))  # the label locations\n",
    "width = 0.5  # the width of the bars\n",
    "counts_mems = [len(df[(df[\"is_round\"] == 0) & (df[\"member_casual\"] == \"member\")]), len(df[(df[\"is_round\"] > 0) & (df[\"member_casual\"] == \"member\")])]\n",
    "counts_cass = [len(df[(df[\"is_round\"] == 0) & (df[\"member_casual\"] != \"member\")]), len(df[(df[\"is_round\"] > 0) & (df[\"member_casual\"] != \"member\")])]\n",
    "# rects1 = ax.bar(x - width/2, counts_mems, width, label='Member')\n",
    "rects2 = ax.bar(x, counts_cass, width, label='Casual')\n",
    "ax.set_xticks(x, langs)\n",
    "plt.show()"
   ]
  },
  {
   "cell_type": "code",
   "execution_count": 21,
   "id": "c79f962c-d166-4d46-861b-663568ce3516",
   "metadata": {},
   "outputs": [
    {
     "data": {
      "image/png": "[encoded data removed]",
      "text/plain": [
       "<Figure size 432x288 with 1 Axes>"
      ]
     },
     "metadata": {
      "needs_background": "light"
     },
     "output_type": "display_data"
    }
   ],
   "source": [
    "n, bins, patches = plt.hist(df[\"duration\"], 5000, density=False, facecolor='g', alpha=0.75)\n",
    "\n",
    "\n",
    "\n",
    "plt.xlabel('Duration (minutes)')\n",
    "plt.ylabel('Count')\n",
    "plt.title('Ride length distribution')\n",
    "plt.xlim(0, 300)\n",
    "plt.show()"
   ]
  }
 ],
 "metadata": {
  "kernelspec": {
   "display_name": "Python 3 (ipykernel)",
   "language": "python",
   "name": "python3"
  },
  "language_info": {
   "codemirror_mode": {
    "name": "ipython",
    "version": 3
   },
   "file_extension": ".py",
   "mimetype": "text/x-python",
   "name": "python",
   "nbconvert_exporter": "python",
   "pygments_lexer": "ipython3",
   "version": "3.9.7"
  }
 },
 "nbformat": 4,
 "nbformat_minor": 5
}
