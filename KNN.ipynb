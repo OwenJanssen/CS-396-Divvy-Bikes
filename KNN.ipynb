{
 "cells": [
  {
   "cell_type": "markdown",
   "metadata": {},
   "source": [
    "KNN Analysis of May 2021 Divvy Data"
   ]
  },
  {
   "cell_type": "code",
   "execution_count": null,
   "metadata": {},
   "outputs": [],
   "source": [
    "# import packages\n",
    "import pandas as pd\n",
    "import sklearn.neighbors as NN\n",
    "from sklearn.model_selection import train_test_split\n",
    "import numpy as np\n",
    "import matplotlib.pyplot as plt\n",
    "import datetime\n",
    "import re\n",
    "import sklearn.metrics as metrics"
   ]
  },
  {
   "cell_type": "code",
   "execution_count": 11,
   "metadata": {},
   "outputs": [],
   "source": [
    "# import data\n",
    "input_data = pd.read_csv(r\"C:\\Users\\HP\\Documents\\GitHub\\CS-396-Divvy-Bikes\\Data\\202105-divvy-tripdata.csv\")"
   ]
  },
  {
   "cell_type": "markdown",
   "metadata": {},
   "source": [
    "Create Data For Distance and Duration"
   ]
  },
  {
   "cell_type": "code",
   "execution_count": 65,
   "metadata": {},
   "outputs": [],
   "source": [
    "# takes two strings as inputs and outputs a datetime.timeDelta object\n",
    "def subtractTime(startStr, endStr):\n",
    "    startVec = re.split(r'\\D+', startStr)\n",
    "    endVec = re.split(r'\\D+', endStr)\n",
    "    for i in range(5):\n",
    "        startVec[i] = int(startVec[i])\n",
    "        endVec[i] = int(endVec[i])\n",
    "    start = datetime.datetime(startVec[2], startVec[0], startVec[1], startVec[3], startVec[4])\n",
    "    end = datetime.datetime(endVec[2], endVec[0], endVec[1], endVec[3], endVec[4])\n",
    "    duration = end-start\n",
    "    return duration"
   ]
  },
  {
   "cell_type": "code",
   "execution_count": 66,
   "metadata": {},
   "outputs": [],
   "source": [
    "membership = input_data.loc[:, 'member_casual']\n",
    "start_time = input_data.loc[:, 'started_at']\n",
    "end_time = input_data.loc[:, 'ended_at']\n",
    "start_lat = input_data.loc[:, 'start_lat']\n",
    "start_lon = input_data.loc[:, 'start_lng']\n",
    "end_lat = input_data.loc[:, 'end_lat']\n",
    "end_lon = input_data.loc[:, 'end_lng']\n",
    "\n",
    "# find distance between the starting and ending stations\n",
    "distance = np.hypot(end_lat - start_lat, end_lon - start_lon)\n",
    "\n",
    "duration = np.ndarray(membership.size)\n",
    "for i in range(membership.size):\n",
    "    # find the duration between the start and end of the ride\n",
    "    dur = subtractTime(start_time[i], end_time[i])\n",
    "    duration[i] = dur.days*24*60 + dur.seconds/60"
   ]
  },
  {
   "cell_type": "markdown",
   "metadata": {},
   "source": [
    "Create and test KNN model"
   ]
  },
  {
   "cell_type": "code",
   "execution_count": 86,
   "metadata": {},
   "outputs": [],
   "source": [
    "# fit KNN model\n",
    "X_train, X_test, y_train, y_test = train_test_split(np.column_stack([distance, duration]), membership, test_size = 0.20)\n",
    "scores = []\n",
    "max_k = 20\n",
    "for k in range(1, max_k):\n",
    "    model = NN.KNeighborsClassifier(n_neighbors = k)\n",
    "    model.fit(X_train, y_train)\n",
    "    y_pred = model.predict(X_test)\n",
    "    scores.append(metrics.accuracy_score(y_test,y_pred))"
   ]
  },
  {
   "cell_type": "code",
   "execution_count": 87,
   "metadata": {},
   "outputs": [
    {
     "data": {
      "image/png": "[encoded data removed]",
      "text/plain": [
       "<Figure size 432x288 with 1 Axes>"
      ]
     },
     "metadata": {
      "needs_background": "light"
     },
     "output_type": "display_data"
    }
   ],
   "source": [
    "fig, ax = plt.subplots()\n",
    "plt.plot(range(1, max_k), scores)\n",
    "ax.set_xlabel(\"Number of Neighbors\")\n",
    "ax.set_ylabel(\"Accuracy of Model\")\n",
    "plt.show()"
   ]
  }
 ],
 "metadata": {
  "interpreter": {
   "hash": "63f971ae2fb7e4a61505960e4c450eb27973739e8449118f4432a1b8e3b481b6"
  },
  "kernelspec": {
   "display_name": "Python 3.9.5 ('base')",
   "language": "python",
   "name": "python3"
  },
  "language_info": {
   "codemirror_mode": {
    "name": "ipython",
    "version": 3
   },
   "file_extension": ".py",
   "mimetype": "text/x-python",
   "name": "python",
   "nbconvert_exporter": "python",
   "pygments_lexer": "ipython3",
   "version": "3.9.5"
  },
  "orig_nbformat": 4
 },
 "nbformat": 4,
 "nbformat_minor": 2
}
