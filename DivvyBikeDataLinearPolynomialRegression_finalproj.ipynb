{
 "cells": [
  {
   "cell_type": "markdown",
   "metadata": {
    "id": "gdGZv0S2Vfgh"
   },
   "source": [
    "Predicts the volume of bikes needed on various days in May 2021. Uses this dataset: https://www.kaggle.com/datasets/farjadanalytica/divvytripdata-1?select=202105-divvy-tripdata.csv "
   ]
  },
  {
   "cell_type": "code",
   "execution_count": 38,
   "metadata": {
    "id": "iNKCUDNo71NW"
   },
   "outputs": [
    {
     "data": {
      "text/plain": [
       "\"\\nfrom pathlib import Path\\nimport shutil\\nif Path('Data').is_dir():\\n  shutil.rmtree('Data')\\n\""
      ]
     },
     "execution_count": 38,
     "metadata": {},
     "output_type": "execute_result"
    }
   ],
   "source": [
    "# if using Google Colab\n",
    "\"\"\"\n",
    "from pathlib import Path\n",
    "import shutil\n",
    "if Path('Data').is_dir():\n",
    "  shutil.rmtree('Data')\n",
    "\"\"\""
   ]
  },
  {
   "cell_type": "code",
   "execution_count": 39,
   "metadata": {
    "colab": {
     "base_uri": "https://localhost:8080/"
    },
    "id": "sd0nQpJxRtib",
    "outputId": "45bdabed-4fcf-4ea8-baee-c065f0d90b3a"
   },
   "outputs": [],
   "source": [
    "import pandas as pd\n",
    "import matplotlib.pyplot as plt\n",
    "from datetime import datetime\n",
    "from scipy import stats\n",
    "import numpy as np\n",
    "from sklearn.metrics import r2_score\n",
    "from sklearn.model_selection import train_test_split, cross_validate, GridSearchCV\n",
    "from sklearn.linear_model import LinearRegression, Ridge\n",
    "from sklearn.preprocessing import PolynomialFeatures\n",
    "import urllib.request\n",
    "import csv\n",
    "import codecs\n",
    "from scipy import stats\n",
    "from sklearn.decomposition import PCA\n",
    "from sklearn.preprocessing import MinMaxScaler, StandardScaler\n",
    "# !unzip 'Data.zip' # if using Google Colab"
   ]
  },
  {
   "cell_type": "code",
   "execution_count": 40,
   "metadata": {
    "colab": {
     "base_uri": "https://localhost:8080/"
    },
    "id": "2jFREqZBR4iu",
    "outputId": "7744bcea-62f9-40e4-a4ec-1697e109a68f"
   },
   "outputs": [
    {
     "name": "stdout",
     "output_type": "stream",
     "text": [
      "3391402\n"
     ]
    }
   ],
   "source": [
    "months = ['202005', '202006', '202007', '202008', '202009', '202010', '202011', '202012', '202101', '202102', '202103', '202104', '202105']\n",
    "ride_data_files = ['Data/' + month + '-divvy-tripdata.csv' for month in months]\n",
    "df_divvy = pd.concat((pd.read_csv(f) for f in ride_data_files))\n",
    "print(len(df_divvy))"
   ]
  },
  {
   "cell_type": "code",
   "execution_count": 41,
   "metadata": {
    "colab": {
     "base_uri": "https://localhost:8080/",
     "height": 209
    },
    "id": "f99Al3KM6sXH",
    "outputId": "686838f7-91b8-4edd-a9b7-f4c83541eb51"
   },
   "outputs": [
    {
     "data": {
      "text/html": [
       "<div>\n",
       "<style scoped>\n",
       "    .dataframe tbody tr th:only-of-type {\n",
       "        vertical-align: middle;\n",
       "    }\n",
       "\n",
       "    .dataframe tbody tr th {\n",
       "        vertical-align: top;\n",
       "    }\n",
       "\n",
       "    .dataframe thead th {\n",
       "        text-align: right;\n",
       "    }\n",
       "</style>\n",
       "<table border=\"1\" class=\"dataframe\">\n",
       "  <thead>\n",
       "    <tr style=\"text-align: right;\">\n",
       "      <th></th>\n",
       "      <th>name</th>\n",
       "      <th>datetime</th>\n",
       "      <th>tempmax</th>\n",
       "      <th>tempmin</th>\n",
       "      <th>temp</th>\n",
       "      <th>feelslikemax</th>\n",
       "      <th>feelslikemin</th>\n",
       "      <th>feelslike</th>\n",
       "      <th>dew</th>\n",
       "      <th>humidity</th>\n",
       "      <th>...</th>\n",
       "      <th>solarenergy</th>\n",
       "      <th>uvindex</th>\n",
       "      <th>severerisk</th>\n",
       "      <th>sunrise</th>\n",
       "      <th>sunset</th>\n",
       "      <th>moonphase</th>\n",
       "      <th>conditions</th>\n",
       "      <th>description</th>\n",
       "      <th>icon</th>\n",
       "      <th>stations</th>\n",
       "    </tr>\n",
       "  </thead>\n",
       "  <tbody>\n",
       "    <tr>\n",
       "      <th>0</th>\n",
       "      <td>chicago, illinois</td>\n",
       "      <td>2020-05-01</td>\n",
       "      <td>66.6</td>\n",
       "      <td>38.6</td>\n",
       "      <td>53.6</td>\n",
       "      <td>66.6</td>\n",
       "      <td>38.6</td>\n",
       "      <td>53.4</td>\n",
       "      <td>35.6</td>\n",
       "      <td>54.7</td>\n",
       "      <td>...</td>\n",
       "      <td>22.7</td>\n",
       "      <td>9</td>\n",
       "      <td>NaN</td>\n",
       "      <td>2020-05-01T05:46:00</td>\n",
       "      <td>2020-05-01T19:49:49</td>\n",
       "      <td>0.28</td>\n",
       "      <td>Partially cloudy</td>\n",
       "      <td>Partly cloudy throughout the day.</td>\n",
       "      <td>partly-cloudy-day</td>\n",
       "      <td>72534014819,KORD,KMDW,72530094846,74466504838,...</td>\n",
       "    </tr>\n",
       "  </tbody>\n",
       "</table>\n",
       "<p>1 rows × 33 columns</p>\n",
       "</div>"
      ],
      "text/plain": [
       "                name    datetime  tempmax  tempmin  temp  feelslikemax  \\\n",
       "0  chicago, illinois  2020-05-01     66.6     38.6  53.6          66.6   \n",
       "\n",
       "   feelslikemin  feelslike   dew  humidity  ...  solarenergy  uvindex  \\\n",
       "0          38.6       53.4  35.6      54.7  ...         22.7        9   \n",
       "\n",
       "   severerisk              sunrise               sunset  moonphase  \\\n",
       "0         NaN  2020-05-01T05:46:00  2020-05-01T19:49:49       0.28   \n",
       "\n",
       "         conditions                        description               icon  \\\n",
       "0  Partially cloudy  Partly cloudy throughout the day.  partly-cloudy-day   \n",
       "\n",
       "                                            stations  \n",
       "0  72534014819,KORD,KMDW,72530094846,74466504838,...  \n",
       "\n",
       "[1 rows x 33 columns]"
      ]
     },
     "execution_count": 41,
     "metadata": {},
     "output_type": "execute_result"
    }
   ],
   "source": [
    "# Get historical weather data\n",
    "weather_df = pd.read_csv('Data/chicago_daily_weather_data.csv')\n",
    "weather_df.loc[weather_df['datetime'] == '2020-05-01']"
   ]
  },
  {
   "cell_type": "code",
   "execution_count": 42,
   "metadata": {
    "colab": {
     "base_uri": "https://localhost:8080/"
    },
    "id": "1dnMTzh9FvaT",
    "outputId": "23bbdadf-a3fe-45cb-915b-1ce70f134f3d"
   },
   "outputs": [
    {
     "name": "stdout",
     "output_type": "stream",
     "text": [
      "            ride_id rideable_type       started_at         ended_at  \\\n",
      "0  93708F49670AE324   docked_bike    5/7/2020 1:18   5/27/2020 2:55   \n",
      "1  305C4EFEBE542DA7   docked_bike  5/15/2020 15:12  5/26/2020 16:40   \n",
      "2  0C666D8148BD3A6F   docked_bike    5/1/2020 7:48   5/12/2020 7:49   \n",
      "3  6BFE0820278C6D56   docked_bike  5/19/2020 12:29  5/29/2020 13:05   \n",
      "4  4323B2931BF64CA3   docked_bike  5/13/2020 16:50  5/23/2020 17:12   \n",
      "\n",
      "            start_station_name start_station_id            end_station_name  \\\n",
      "0  Spaulding Ave & Division St              510     Karlov Ave & Madison St   \n",
      "1      MLK Jr Dr & Pershing Rd              179      St. Clair St & Erie St   \n",
      "2               DuSable Museum              422    Commercial Ave & 83rd St   \n",
      "3      Lincoln Ave & Winona St              472     Lincoln Ave & Winona St   \n",
      "4     Southport Ave & Clark St              292  Clarendon Ave & Leland Ave   \n",
      "\n",
      "  end_station_id  start_lat  start_lng  end_lat  end_lng member_casual  \\\n",
      "0            534    41.9027   -87.7092  41.8809 -87.7279        casual   \n",
      "1            211    41.8246   -87.6168  41.8944 -87.6227        casual   \n",
      "2            581    41.7916   -87.6079  41.7446 -87.5512        casual   \n",
      "3            472    41.9749   -87.6925  41.9749 -87.6925        casual   \n",
      "4            251    41.9571   -87.6642  41.9680 -87.6500        casual   \n",
      "\n",
      "   Unnamed: 13   s    datetime  \n",
      "0          NaN NaN  2020-05-07  \n",
      "1          NaN NaN  2020-05-15  \n",
      "2          NaN NaN  2020-05-01  \n",
      "3          NaN NaN  2020-05-19  \n",
      "4          NaN NaN  2020-05-13  \n",
      "3391402\n",
      "3391402\n"
     ]
    }
   ],
   "source": [
    "# Merge weather data and Divvy dataset\n",
    "df_divvy['datetime'] = df_divvy.apply(lambda x : x['started_at'].split(' ')[0], axis=1)\n",
    "df_divvy['datetime'] = df_divvy['datetime'].apply(lambda x : x.split('/')[2] + '-' + ('0' + x.split('/')[0])[-2:] + '-' + ('0' + x.split('/')[1])[-2:])\n",
    "print(df_divvy.head())\n",
    "df_divvy_weather = pd.merge(df_divvy, weather_df, on='datetime', how='left')\n",
    "df_divvy_weather[['started_at', 'datetime', 'temp', 'precip', 'windspeed']].iloc[[1,3000,5000,7000,10000,15000,20000]]\n",
    "print(len(df_divvy))\n",
    "print(len(df_divvy_weather))"
   ]
  },
  {
   "cell_type": "code",
   "execution_count": 43,
   "metadata": {
    "id": "sMTL9qU86jDt"
   },
   "outputs": [],
   "source": [
    "# Used to find features that are most highly correlated with number of rides\n",
    "# Input: ride and weather data. Output: features for which p value for chi2 is less than 0.05\n",
    "def chi2_test(df):\n",
    "  ridership_cutoff = 1000 # less than this is fewer rides, more than this is more rides\n",
    "  features_cutoffs = {'weekend_or_holiday': '>0.01', 'temp': '>50', 'precip': '<0.01', 'windspeed': '<20', 'snowdepth': '<0.01', 'humidity': '<65', 'feelslike': '>50'} # key: feature, value: rule for distinguishing good weather from bad weather for that feature\n",
    "  influential_features = {} # key: feature, value: p value. Only includes features with p value less than 0.05\n",
    "  ridershiphigh_weathergood, ridershiphigh_weatherbad, ridershiplow_weathergood, ridershiplow_weatherbad = None, None, None, None\n",
    "\n",
    "  for feature in list(features_cutoffs.keys()):\n",
    "    feature_cutoff = float(features_cutoffs[feature][1:])\n",
    "    if features_cutoffs[feature][0] == '>':\n",
    "      ridershiphigh_weathergood = len(df[(df['rides_count']>=ridership_cutoff)&(df[feature]>=feature_cutoff)])\n",
    "      ridershiphigh_weatherbad = len(df[(df['rides_count']>=ridership_cutoff)&(df[feature]<feature_cutoff)])\n",
    "      ridershiplow_weathergood = len(df[(df['rides_count']<ridership_cutoff)&(df[feature]>=feature_cutoff)])\n",
    "      ridershiplow_weatherbad = len(df[(df['rides_count']<ridership_cutoff)&(df[feature]<feature_cutoff)])\n",
    "    elif features_cutoffs[feature][0] == '<':\n",
    "      ridershiphigh_weathergood = len(df[(df['rides_count']>=ridership_cutoff)&(df[feature]<=feature_cutoff)])\n",
    "      ridershiphigh_weatherbad = len(df[(df['rides_count']>=ridership_cutoff)&(df[feature]>feature_cutoff)])\n",
    "      ridershiplow_weathergood = len(df[(df['rides_count']<ridership_cutoff)&(df[feature]<=feature_cutoff)])\n",
    "      ridershiplow_weatherbad = len(df[(df['rides_count']<ridership_cutoff)&(df[feature]>feature_cutoff)])\n",
    "    table = [[ridershiphigh_weathergood, ridershiphigh_weatherbad],[ridershiplow_weathergood, ridershiplow_weatherbad]]\n",
    "    p = stats.chi2_contingency(table)[1]\n",
    "    if p < 0.05:\n",
    "      influential_features[feature] = p\n",
    "  \n",
    "  return influential_features\n",
    "    "
   ]
  },
  {
   "cell_type": "code",
   "execution_count": 44,
   "metadata": {
    "colab": {
     "base_uri": "https://localhost:8080/",
     "height": 107
    },
    "id": "cJ3s5xCwUj7n",
    "outputId": "a5de6c85-aed2-4c0a-8524-644059a92799"
   },
   "outputs": [
    {
     "name": "stdout",
     "output_type": "stream",
     "text": [
      "{'weekend_or_holiday': 0.015342872964248926, 'temp': 0.0008313071172927805, 'snowdepth': 3.268898539634542e-08, 'humidity': 0.011051053125211851, 'feelslike': 0.0015760777242487035}\n"
     ]
    }
   ],
   "source": [
    "# Find total number of bikes used on each day\n",
    "ride_date_counts = {} # key: ride_date, value: number of rides on that date\n",
    "ride_date_weather = {} # key: ride_date, value: [temp, precip, windspeed, snowdepth, humidity, feelslike]\n",
    "ride_date_weekend_bool = {} # key: ride_date, value: 1 if the date is a Saturday, Sunday, or holiday, else 0\n",
    "holidays = ['2020-01-01', '2020-01-20', '2020-05-25', '2020-07-03', '2020-09-07', '2020-11-11', '2020-11-26', '2020-12-25',\n",
    "            '2021-01-01', '2020-01-18', '2021-05-31', '2021-07-05', '2021-09-06', '2021-11-11', '2021-11-25', '2021-12-24', '2021-12-31']\n",
    "for index, row in df_divvy_weather.iterrows():\n",
    "    if row['datetime'] not in ride_date_counts.keys():\n",
    "      ride_date_counts[row['datetime']] = 1\n",
    "      ride_date_weather[row['datetime']] = [row['temp'], row['precip'], row['windspeed'], row['snowdepth'], row['humidity'], row['feelslike']]\n",
    "      current_timestamp = pd.Timestamp(row['datetime'])\n",
    "      ride_date_weekend_bool[row['datetime']] = int(current_timestamp.dayofweek in [5,6] or row['datetime'] in holidays)\n",
    "    else:\n",
    "      ride_date_counts[row['datetime']] += 1\n",
    "\n",
    "\n",
    "ride_data = pd.DataFrame()\n",
    "ride_data['datetime'] = list(ride_date_counts.keys())\n",
    "ride_data['rides_count'] = list(ride_date_counts.values())\n",
    "ride_data['weekend_or_holiday'] = list(ride_date_weekend_bool.values())\n",
    "ride_data['temp'] = [weather_data[0] for weather_data in list(ride_date_weather.values())]\n",
    "ride_data['precip'] = [weather_data[1] for weather_data in list(ride_date_weather.values())]\n",
    "ride_data['windspeed'] = [weather_data[2] for weather_data in list(ride_date_weather.values())]\n",
    "ride_data['snowdepth'] = [weather_data[3] for weather_data in list(ride_date_weather.values())]\n",
    "ride_data['humidity'] = [weather_data[4] for weather_data in list(ride_date_weather.values())]\n",
    "ride_data['feelslike'] = [weather_data[5] for weather_data in list(ride_date_weather.values())]\n",
    "\n",
    "# Do chi2 test to determine which variables most influence Divvy bike usage\n",
    "significant_features = chi2_test(ride_data)\n",
    "print(significant_features)\n",
    "\n",
    "x = ride_data[['weekend_or_holiday', 'feelslike', 'humidity']] # Use features that the chi2 test showed were most important\n",
    "y = ride_data[['rides_count']]"
   ]
  },
  {
   "cell_type": "code",
   "execution_count": 45,
   "metadata": {
    "colab": {
     "base_uri": "https://localhost:8080/"
    },
    "id": "h2I8bvlG5WXH",
    "outputId": "6c1a5bec-a186-42ee-adb2-f48a07265384"
   },
   "outputs": [
    {
     "name": "stdout",
     "output_type": "stream",
     "text": [
      "[[-0.66972338  0.11881302 -1.25076601]\n",
      " [-0.66972338  0.69905906  1.2543753 ]\n",
      " [-0.66972338  0.11881302 -0.63894932]\n",
      " ...\n",
      " [-0.66972338  0.68160805  0.75003992]\n",
      " [-0.66972338 -0.00334404 -1.78817257]\n",
      " [ 1.49315378  0.32822512 -0.80430518]]\n"
     ]
    }
   ],
   "source": [
    "# Feature transformation\n",
    "\n",
    "# PCA: no longer used\n",
    "\"\"\"\n",
    "pca = PCA(n_components=1)\n",
    "x = pca.fit_transform(x)\n",
    "\"\"\"\n",
    "# Scaling\n",
    "scaling_type = 'standard'\n",
    "if scaling_type == 'standard':\n",
    "  scaler = StandardScaler()\n",
    "elif scaling_type == 'minmax':\n",
    "  scaler = MinMaxScaler()\n",
    "x = scaler.fit_transform(x)\n",
    "print(x)"
   ]
  },
  {
   "cell_type": "code",
   "execution_count": 46,
   "metadata": {
    "colab": {
     "base_uri": "https://localhost:8080/"
    },
    "id": "-DHwS_2tG-x3",
    "outputId": "1a4c39cc-876e-41a3-8533-0dac2b87428b"
   },
   "outputs": [
    {
     "name": "stdout",
     "output_type": "stream",
     "text": [
      "0.5477511849017459\n",
      "[[ 1266.45487247  4689.49466841 -1174.69183663]]\n",
      "[8679.33243279]\n",
      "394\n"
     ]
    }
   ],
   "source": [
    "# Train and test linear regression model\n",
    "X_train, X_test, y_train, y_test = train_test_split(x, y, test_size=0.2, random_state=0)\n",
    "linear_model = LinearRegression()\n",
    "linear_model.fit(X_train, y_train)\n",
    "coef = linear_model.coef_\n",
    "intercept = linear_model.intercept_\n",
    "print(linear_model.score(X_test, y_test)) # R^2\n",
    "print(coef)\n",
    "print(intercept)\n",
    "print(len(x))"
   ]
  },
  {
   "cell_type": "code",
   "execution_count": 47,
   "metadata": {
    "colab": {
     "base_uri": "https://localhost:8080/"
    },
    "id": "kd3ft8Q_Ks1a",
    "outputId": "ae646770-af61-49df-d4fa-29fc6da60e71"
   },
   "outputs": [
    {
     "name": "stdout",
     "output_type": "stream",
     "text": [
      "[[-0.66972338 -0.3349132   0.27050792]\n",
      " [ 1.49315378  0.95646143 -0.20902408]\n",
      " [ 1.49315378 -1.02859079  1.68430055]\n",
      " [-0.66972338  0.24533283 -1.8708505 ]]\n",
      "[[-0.66972338 -0.3349132   0.27050792  0.44852941  0.2242992  -0.18116548\n",
      "   0.11216685 -0.09059667  0.07317454]\n",
      " [ 1.49315378  0.95646143 -0.20902408  2.2295082   1.428144   -0.31210509\n",
      "   0.91481847 -0.19992347  0.04369107]\n",
      " [ 1.49315378 -1.02859079  1.68430055  2.2295082  -1.53584423  2.51491972\n",
      "   1.05799902 -1.73245603  2.83686833]\n",
      " [-0.66972338  0.24533283 -1.8708505   0.44852941 -0.16430514  1.25295233\n",
      "   0.0601882  -0.45898105  3.50008158]]\n",
      "0.6278683848585258\n",
      "[[-3.15001071e+15  5.19300000e+03 -1.18475000e+03  3.82547298e+15\n",
      "   9.64437500e+02 -3.53500000e+02  9.99156250e+02 -8.20210938e+02\n",
      "  -4.51937500e+02]]\n",
      "[-3.82547298e+15]\n"
     ]
    }
   ],
   "source": [
    "# Polynomial fit\n",
    "poly = PolynomialFeatures(degree=2, include_bias=False)\n",
    "poly_features = poly.fit_transform(X_train) \n",
    "print(X_train[0:4])\n",
    "print(poly_features[0:4])\n",
    "poly_reg_model = LinearRegression()\n",
    "poly_reg_model.fit(poly_features, y_train)\n",
    "coef = poly_reg_model.coef_\n",
    "intercept = poly_reg_model.intercept_\n",
    "X_test_features = poly.fit_transform(X_test)\n",
    "print(poly_reg_model.score(X_test_features, y_test)) # R^2\n",
    "print(coef)\n",
    "print(intercept)\n",
    "\n"
   ]
  },
  {
   "cell_type": "code",
   "execution_count": 48,
   "metadata": {
    "colab": {
     "base_uri": "https://localhost:8080/"
    },
    "id": "5yxHsw_3tB_S",
    "outputId": "03512e87-9114-433e-b446-144b3da93a17"
   },
   "outputs": [
    {
     "name": "stdout",
     "output_type": "stream",
     "text": [
      "Linear, Ridge\n",
      "[0.58077029 0.58078128 0.5807836  0.58078574 0.58078771 0.5807895\n",
      " 0.58079112 0.58079667 0.58079727 0.5807977  0.58079796 0.58079805\n",
      " 0.58079798 0.58079773 0.58079732 0.58079674 0.580796   0.58079509\n",
      " 0.58079401 0.58078805 0.58078409 0.58077923 0.58077898 0.58077873\n",
      " 0.58077848 0.58077822 0.58077797 0.58077504 0.58077745 0.58077719\n",
      " 0.58077693 0.58077666 0.5807764  0.58077613 0.58077586 0.58077559\n",
      " 0.58077532 0.58077504 0.58077477 0.58077449 0.58071944 0.5802806\n",
      " 0.57949396 0.5383886  0.33420999 0.21828333]\n",
      "{'alpha': 1.9}\n",
      "0.5807980525257721\n",
      "0.5482511088192509\n",
      "[[ 1259.6667396   4661.09785883 -1172.23897958]]\n",
      "[8678.90374458]\n",
      "Polynomial, Ridge\n"
     ]
    },
    {
     "name": "stderr",
     "output_type": "stream",
     "text": [
      "C:\\Users\\there\\anaconda3\\lib\\site-packages\\sklearn\\linear_model\\_ridge.py:147: LinAlgWarning: Ill-conditioned matrix (rcond=5.26817e-17): result may not be accurate.\n",
      "  return linalg.solve(A, Xy, sym_pos=True,\n"
     ]
    },
    {
     "name": "stdout",
     "output_type": "stream",
     "text": [
      "[0.64296687 0.64333492 0.64309759 0.64243503 0.64140342 0.64005124\n",
      " 0.63842039 0.63654727 0.63446353 0.63219679 0.62977124 0.62720805\n",
      " 0.62452584 0.62174102 0.61886803 0.61591965 0.61290719 0.60984066\n",
      " 0.60672895 0.60357996 0.60040071 0.59719744 0.59397572 0.59074051\n",
      " 0.58749624 0.58424684 0.58099584 0.57774637 0.57450124 0.57126294\n",
      " 0.5680337  0.56481549 0.56161009 0.55841906 0.55524379 0.55208551\n",
      " 0.54894532 0.54582417 0.5427229  0.53964226 0.53658288 0.53354533\n",
      " 0.53053009 0.52753756 0.52456809 0.52162198 0.51869945 0.5158007\n",
      " 0.51292587 0.51007508]\n",
      "{'alpha': 4.1}\n",
      "0.6433349181443198\n",
      "0.6296593194401521\n",
      "[[  794.76632205  5106.28768053 -1179.57817712   654.43474315\n",
      "    951.78921326  -349.08568294   962.25620219  -786.42458771\n",
      "   -454.63773304]]\n",
      "[7415.51573209]\n",
      "Linear, Lasso\n"
     ]
    },
    {
     "name": "stderr",
     "output_type": "stream",
     "text": [
      "C:\\Users\\there\\anaconda3\\lib\\site-packages\\sklearn\\model_selection\\_validation.py:598: UserWarning: With alpha=0, this algorithm does not converge well. You are advised to use the LinearRegression estimator\n",
      "  estimator.fit(X_train, y_train, **fit_params)\n",
      "C:\\Users\\there\\anaconda3\\lib\\site-packages\\sklearn\\linear_model\\_coordinate_descent.py:530: UserWarning: Coordinate descent with no regularization may lead to unexpected results and is discouraged.\n",
      "  model = cd_fast.enet_coordinate_descent(\n",
      "C:\\Users\\there\\anaconda3\\lib\\site-packages\\sklearn\\linear_model\\_coordinate_descent.py:530: ConvergenceWarning: Objective did not converge. You might want to increase the number of iterations. Duality gap: 2169484268.8314476, tolerance: 1152913.5482079368\n",
      "  model = cd_fast.enet_coordinate_descent(\n",
      "C:\\Users\\there\\anaconda3\\lib\\site-packages\\sklearn\\model_selection\\_validation.py:598: UserWarning: With alpha=0, this algorithm does not converge well. You are advised to use the LinearRegression estimator\n",
      "  estimator.fit(X_train, y_train, **fit_params)\n",
      "C:\\Users\\there\\anaconda3\\lib\\site-packages\\sklearn\\linear_model\\_coordinate_descent.py:530: UserWarning: Coordinate descent with no regularization may lead to unexpected results and is discouraged.\n",
      "  model = cd_fast.enet_coordinate_descent(\n",
      "C:\\Users\\there\\anaconda3\\lib\\site-packages\\sklearn\\linear_model\\_coordinate_descent.py:530: ConvergenceWarning: Objective did not converge. You might want to increase the number of iterations. Duality gap: 2257261406.8542757, tolerance: 1074015.4219603175\n",
      "  model = cd_fast.enet_coordinate_descent(\n",
      "C:\\Users\\there\\anaconda3\\lib\\site-packages\\sklearn\\model_selection\\_validation.py:598: UserWarning: With alpha=0, this algorithm does not converge well. You are advised to use the LinearRegression estimator\n",
      "  estimator.fit(X_train, y_train, **fit_params)\n",
      "C:\\Users\\there\\anaconda3\\lib\\site-packages\\sklearn\\linear_model\\_coordinate_descent.py:530: UserWarning: Coordinate descent with no regularization may lead to unexpected results and is discouraged.\n",
      "  model = cd_fast.enet_coordinate_descent(\n",
      "C:\\Users\\there\\anaconda3\\lib\\site-packages\\sklearn\\linear_model\\_coordinate_descent.py:530: ConvergenceWarning: Objective did not converge. You might want to increase the number of iterations. Duality gap: 2323332420.8821907, tolerance: 1102084.1435186511\n",
      "  model = cd_fast.enet_coordinate_descent(\n",
      "C:\\Users\\there\\anaconda3\\lib\\site-packages\\sklearn\\model_selection\\_validation.py:598: UserWarning: With alpha=0, this algorithm does not converge well. You are advised to use the LinearRegression estimator\n",
      "  estimator.fit(X_train, y_train, **fit_params)\n",
      "C:\\Users\\there\\anaconda3\\lib\\site-packages\\sklearn\\linear_model\\_coordinate_descent.py:530: UserWarning: Coordinate descent with no regularization may lead to unexpected results and is discouraged.\n",
      "  model = cd_fast.enet_coordinate_descent(\n",
      "C:\\Users\\there\\anaconda3\\lib\\site-packages\\sklearn\\linear_model\\_coordinate_descent.py:530: ConvergenceWarning: Objective did not converge. You might want to increase the number of iterations. Duality gap: 2268888805.2881336, tolerance: 1116851.8802234125\n",
      "  model = cd_fast.enet_coordinate_descent(\n",
      "C:\\Users\\there\\anaconda3\\lib\\site-packages\\sklearn\\model_selection\\_validation.py:598: UserWarning: With alpha=0, this algorithm does not converge well. You are advised to use the LinearRegression estimator\n",
      "  estimator.fit(X_train, y_train, **fit_params)\n",
      "C:\\Users\\there\\anaconda3\\lib\\site-packages\\sklearn\\linear_model\\_coordinate_descent.py:530: UserWarning: Coordinate descent with no regularization may lead to unexpected results and is discouraged.\n",
      "  model = cd_fast.enet_coordinate_descent(\n",
      "C:\\Users\\there\\anaconda3\\lib\\site-packages\\sklearn\\linear_model\\_coordinate_descent.py:530: ConvergenceWarning: Objective did not converge. You might want to increase the number of iterations. Duality gap: 2252336956.4802194, tolerance: 1140478.7259428569\n",
      "  model = cd_fast.enet_coordinate_descent(\n"
     ]
    },
    {
     "name": "stdout",
     "output_type": "stream",
     "text": [
      "[0.5807671  0.58078088 0.58078541 0.58078061 0.58076694 0.58074417\n",
      " 0.5807123  0.58067133 0.58062125 0.58056207 0.58049379 0.58041641\n",
      " 0.58032992 0.58023433 0.58012964 0.58001585 0.57989295 0.57976096\n",
      " 0.57961989 0.57946969 0.57931038 0.57914198 0.57896447 0.57877786\n",
      " 0.57858214]\n",
      "{'alpha': 16.8}\n",
      "0.5807854117907905\n",
      "0.5506190956519172\n",
      "[[ 1208.68295496  4450.12891929 -1152.14809516]]\n",
      "[8675.6912962]\n",
      "Polynomial, Lasso\n"
     ]
    },
    {
     "name": "stderr",
     "output_type": "stream",
     "text": [
      "C:\\Users\\there\\anaconda3\\lib\\site-packages\\sklearn\\linear_model\\_coordinate_descent.py:530: ConvergenceWarning: Objective did not converge. You might want to increase the number of iterations. Duality gap: 59770002.88424158, tolerance: 1102084.1435186511\n",
      "  model = cd_fast.enet_coordinate_descent(\n",
      "C:\\Users\\there\\anaconda3\\lib\\site-packages\\sklearn\\linear_model\\_coordinate_descent.py:530: ConvergenceWarning: Objective did not converge. You might want to increase the number of iterations. Duality gap: 59954692.196926594, tolerance: 1102084.1435186511\n",
      "  model = cd_fast.enet_coordinate_descent(\n"
     ]
    },
    {
     "name": "stdout",
     "output_type": "stream",
     "text": [
      "[0.64308196 0.64308302 0.64308327 0.64308339 0.64308343 0.64308345\n",
      " 0.6430835  0.64308351 0.64308353 0.64308355 0.64308359 0.64308362\n",
      " 0.64308364 0.64308367 0.64308381 0.64308404 0.64308429 0.64308548\n",
      " 0.64308655 0.64308834 0.64308901 0.64308901 0.64308905 0.64308905\n",
      " 0.64308909 0.64308909 0.64308913 0.64308912 0.64308916 0.64308911\n",
      " 0.64308915 0.64308918 0.64308919 0.64308922 0.64308908 0.64308912\n",
      " 0.64308911 0.64308915 0.64308915 0.64308918 0.64308921 0.64308937\n",
      " 0.6430894  0.64308959 0.64308969 0.64308971 0.64308983 0.64308998\n",
      " 0.64309012 0.6430901  0.64309023 0.64309029 0.64309043 0.64309032\n",
      " 0.64309044 0.64309055 0.64309064 0.64309073 0.64309061 0.64309067\n",
      " 0.64309075 0.64309082 0.64309085 0.64309091 0.64309071 0.64309077\n",
      " 0.64309081 0.64309084 0.64309087 0.64309091 0.64309093 0.64309092\n",
      " 0.64309068 0.64309069 0.64309037 0.64308952 0.64308889 0.64308875\n",
      " 0.64308833 0.64308822 0.64308808 0.64308793 0.64308778 0.64308758\n",
      " 0.64308744 0.64308726 0.64308709 0.64308691 0.64308674 0.64308655\n",
      " 0.64308636 0.64308616 0.64308504 0.64308378 0.6430835  0.64308298\n",
      " 0.64308272 0.64308247 0.6430822  0.64308206 0.64308203 0.64308201\n",
      " 0.64308198 0.64308195 0.64308192 0.64308187 0.64308185 0.64308183\n",
      " 0.64308181 0.64308178 0.64308165 0.64308137 0.64308107 0.64308079\n",
      " 0.64307757 0.6426467  0.64104657 0.60211305 0.51921159]\n",
      "{'alpha': 6.7}\n",
      "0.6430909322749694\n",
      "0.6302999404979368\n",
      "[[  791.02439483  5053.28954844 -1176.17757987   651.35352657\n",
      "    943.89114532  -346.21800846   939.8809015   -765.99325791\n",
      "   -456.01162777]]\n",
      "[7444.45576415]\n"
     ]
    }
   ],
   "source": [
    "# Ridge and Lasso Regression\n",
    "from sklearn.linear_model import Ridge, Lasso\n",
    "\n",
    "def regression_optimizer(model, parameters, X_train, y_train, X_test, y_test):\n",
    "  clf = GridSearchCV(model, parameters,cv=5)\n",
    "  clf.fit(X_train,y_train)\n",
    "  mean_test_score = clf.cv_results_['mean_test_score']\n",
    "  print(mean_test_score)\n",
    "  best_params = clf.best_params_\n",
    "  best_score = clf.best_score_\n",
    "  # Find performance and coefficients for best model\n",
    "  clf = Ridge(alpha=clf.best_params_['alpha'])\n",
    "  clf.fit(X_train, y_train)\n",
    "  clf.predict(X_test)\n",
    "  test_score = clf.score(X_test, y_test)\n",
    "  coef = clf.coef_\n",
    "  intercept = clf.intercept_\n",
    "  print(best_params)\n",
    "  print(best_score)\n",
    "  print(test_score)\n",
    "  print(coef)\n",
    "  print(intercept)\n",
    "  return best_params, best_score, test_score, mean_test_score, coef, intercept\n",
    "   \n",
    "\n",
    "print(\"Linear, Ridge\")\n",
    "#parameters = {'alpha':[0.05, 0.06, 0.07, 0.08, 0.09, 0.1, 0.11, 0.12, 0.13, 0.14, 0.15, 0.2, 0.3, 0.5, 0.75, 1.0, 1.5, 2.0, 2.5, 2.6, 2.7, 2.8, 2.9, 3, 3.05, 3.1, 3.15, 3.2, 3.3, 3.4, 3.5, 3.6, 3.7, 3.8, 3.9, 4, 5.0, 6, 7, 8, 9, 10]}\n",
    "lr_parameters = {'alpha':[0.1, 0.5, 0.6, 0.7, 0.8, 0.9, 1, 1.5, 1.6, 1.7, 1.8, 1.9, 2, 2.1, 2.2, 2.3, 2.4, 2.5, 2.6, 3, 3.2, 3.41, 3.42, 3.43, 3.44, 3.45, 3.46, 3.57, 3.48, 3.49, 3.5, 3.51, 3.52, 3.53, 3.54, 3.55, 3.56, 3.57, 3.58, 3.59, 5, 10, 15, 100, 500, 1000]}\n",
    "lr_best_params, lr_best_score, lr_test_score, lr_mean_test_score, lr_coef, lr_intercept = regression_optimizer(Ridge(), lr_parameters, X_train, y_train, X_test, y_test)\n",
    "\n",
    "print(\"Polynomial, Ridge\")\n",
    "#parameters = {'alpha': [50.0, 100, 200, 300, 400, 450, 460, 470, 480, 490, 491, 492, 493, 494, 495, 496, 497, 498, 499, 499.5, 499.8, 499.9, 499.95, 500, 500.05, 500.1, 500.2, 500.5, 501, 502, 503, 504, 505, 506, 507, 508, 509, 510, 600, 800, 900, 1000, 1500, 2000, 3000, 3100, 3200, 3300, 3400, 3500, 3600, 3650, 3700, 3730, 3740, 3750, 3760, 3770, 3800]}\n",
    "#parameters = {'alpha': [10,11,12,13,14,15,16,17,18,19,20,21,21.5,21.6,21.7,21.75,21.76,21.77,21.78,21.79,21.8,21.81,21.82,21.83,21.84,21.85,21.9,22,22.1,22.2,22.3,22.4,22.5,22.6,22.7,22.8,22.9,23,24,25,26,27,28,29]}\n",
    "#pr_parameters = {'alpha': [0.1, 1, 3, 3.3, 3.4, 3.5, 3.6, 3.7, 3.8, 3.9, 4, 4.1, 4.2, 4.3, 4.4, 4.5, 4.6, 4.7, 4.8, 4.9, 5, 6, 7, 8, 9, 10, 19.1, 19.5, 19.7, 19.8, 19.9, 20, 20.1, 20.15, 20.2, 20.21, 20.22, 20.23, 20.24, 20.25, 20.26, 20.27, 20.28, 20.29, 20.3, 20.4, 20.5, 20.7, 21, 50, 100, 500, 1000]}\n",
    "pr_parameters = {'alpha': [i*4.1 for i in range(0,50)]}\n",
    "pr_best_params, pr_best_score, pr_test_score, pr_mean_test_score, pr_coef, lr_intercept = regression_optimizer(Ridge(), pr_parameters, poly_features, y_train, X_test_features, y_test)\n",
    "\n",
    "print(\"Linear, Lasso\")\n",
    "#parameters = {'alpha':[0, 0.00001, 0.0001, 0.001, 0.002, 0.003, 0.004, 0.005, 0.01, 0.03, 0.05, 0.07, 0.1, 0.2, 0.3, 0.4, 0.5, 0.6, 0.65, 0.7, 0.75, 0.8, 1.0, 1.05, 1.1, 1.15, 1.16, 1.17, 1.18, 1.19, 1.2, 1.21, 1.22, 1.23, 1.24, 1.25, 1.3, 1.35, 1.38, 1.4, 1.41, 1.42, 1.43, 1.44, 1.45, 1.5, 1.6, 1.7, 1.8, 1.9, 2, 5, 6, 7, 8, 9, 10, 11, 12, 13, 14, 15, 16, 16.1, 16.2, 16.3, 16.4, 16.5, 16.6, 16.7, 16.8, 16.9, 17, 17.1, 17.2, 17.3, 17.4, 17.5, 17.6, 17.7, 17.8, 17.9, 18, 19, 20, 25, 30, 35, 40, 45, 50, 100, 500, 1000]}\n",
    "ll_parameters = {'alpha':[i*8.4 for i in range(0,25)]}\n",
    "ll_best_params, ll_best_score, ll_test_score, ll_mean_test_score, ll_coef, lr_intercept = regression_optimizer(Lasso(), ll_parameters, X_train, y_train, X_test, y_test)\n",
    "\n",
    "print(\"Polynomial, Lasso\")\n",
    "#parameters = {'alpha':[10, 50, 60, 70, 80, 90, 100, 105, 106, 107, 108, 109, 110, 111, 112, 113, 114, 115, 120, 130, 140, 150, 200]}\n",
    "pl_parameters = {'alpha':[0.1, 0.5, 0.6, 0.65, 0.66, 0.67, 0.68, 0.69, 0.7, 0.71, 0.72, 0.73, 0.74, 0.75, 0.8, 0.9, 1, 1.5, 2, 3, 3.5, 3.51, 3.52, 3.53, 3.54, 3.55, 3.56, 3.57, 3.58, 3.59, 3.6, 3.61, 3.62, 3.63, 3.64, 3.65, 3.66, 3.67, 3.68, 3.69, 3.7, 3.8, 3.9, 4, 4.1, 4.2, 4.3, 4.4, 4.5, 4.6, 4.7, 4.8, 4.9, 5, 5.1, 5.2, 5.3, 5.4, 5.5, 5.6, 5.7, 5.8, 5.9, 6, 6.1, 6.2, 6.3, 6.4, 6.5, 6.6, 6.7, 6.8, 6.9, 7,8,9,9.5, 9.6, 9.7, 9.8, 9.9, 10, 10.1, 10.2, 10.3, 10.4, 10.5, 10.6, 10.7, 10.8, 10.9, 11,11.5,12,12.1,12.2,12.3,12.4,12.5,12.55,12.56,12.57,12.58,12.59,12.6,12.61,12.62,12.63,12.64,12.65,12.7,12.8,12.9,13,14, 50, 100, 500, 1000]}\n",
    "pl_best_params, pl_best_score, pl_test_score, pl_mean_test_score, pl_coef, lr_intercept = regression_optimizer(Lasso(), pl_parameters, poly_features, y_train, X_test_features, y_test)\n",
    "\n"
   ]
  },
  {
   "cell_type": "code",
   "execution_count": 49,
   "metadata": {},
   "outputs": [
    {
     "data": {
      "image/png": "[encoded data removed]",
      "text/plain": [
       "<Figure size 432x288 with 1 Axes>"
      ]
     },
     "metadata": {
      "needs_background": "light"
     },
     "output_type": "display_data"
    }
   ],
   "source": [
    "# Graph alpha and R^2 score for best linear model (Lasso regularization)\n",
    "plt.plot(ll_parameters['alpha'], ll_mean_test_score)\n",
    "plt.xlabel('Alpha')\n",
    "plt.ylabel('R^2 Score')\n",
    "plt.title('Linear Model with Lasso Regularizer')\n",
    "plt.savefig('Linear_Lasso.png')"
   ]
  },
  {
   "cell_type": "code",
   "execution_count": 50,
   "metadata": {},
   "outputs": [
    {
     "data": {
      "image/png": "[encoded data removed]",
      "text/plain": [
       "<Figure size 432x288 with 1 Axes>"
      ]
     },
     "metadata": {
      "needs_background": "light"
     },
     "output_type": "display_data"
    }
   ],
   "source": [
    "# Graph alpha and R^2 score for best polynomial model (Ridge regularization)\n",
    "plt.plot(pr_parameters['alpha'], pr_mean_test_score)\n",
    "plt.xlabel('Alpha')\n",
    "plt.ylabel('R^2 Score')\n",
    "plt.title('Polynomial Model with Ridge Regularizer')\n",
    "plt.savefig('Polynomial_Ridge.png')"
   ]
  },
  {
   "cell_type": "code",
   "execution_count": null,
   "metadata": {},
   "outputs": [],
   "source": []
  }
 ],
 "metadata": {
  "colab": {
   "collapsed_sections": [],
   "name": "DivvyBikeDataLinearPolynomialRegression.ipynb",
   "provenance": []
  },
  "kernelspec": {
   "display_name": "Python 3 (ipykernel)",
   "language": "python",
   "name": "python3"
  },
  "language_info": {
   "codemirror_mode": {
    "name": "ipython",
    "version": 3
   },
   "file_extension": ".py",
   "mimetype": "text/x-python",
   "name": "python",
   "nbconvert_exporter": "python",
   "pygments_lexer": "ipython3",
   "version": "3.9.7"
  }
 },
 "nbformat": 4,
 "nbformat_minor": 1
}
