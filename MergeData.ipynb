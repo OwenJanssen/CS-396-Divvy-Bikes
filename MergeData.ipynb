{
 "cells": [
  {
   "cell_type": "markdown",
   "metadata": {},
   "source": [
    "Import All Data Files"
   ]
  },
  {
   "cell_type": "code",
   "execution_count": 36,
   "metadata": {},
   "outputs": [
    {
     "name": "stdout",
     "output_type": "stream",
     "text": [
      "221935\n",
      "113541\n"
     ]
    }
   ],
   "source": [
    "# import packages\n",
    "import pandas as pd\n",
    "import sklearn.neighbors as NN\n",
    "from sklearn.model_selection import train_test_split\n",
    "import numpy as np\n",
    "import matplotlib.pyplot as plt\n",
    "import datetime\n",
    "import re\n",
    "import sklearn.metrics as metrics\n",
    "import geopy.distance\n",
    "import seaborn as sns\n",
    "from matplotlib.colors import ListedColormap\n",
    "\n",
    "data_per_file = 1/13\n",
    "\n",
    "# import data\n",
    "data = pd.DataFrame()\n",
    "lens = []\n",
    "for m in range(1, 13):\n",
    "    if m <= 5:\n",
    "        path = r\"C:\\Users\\HP\\Documents\\GitHub\\CS-396-Divvy-Bikes\\Data\\20210\"+str(m)+\"-divvy-tripdata.csv\"\n",
    "        input_data = pd.read_csv(path)\n",
    "        split_d = input_data.iloc[:int(len(input_data)*data_per_file)]\n",
    "        data = pd.concat([split_d, input_data], ignore_index = True)\n",
    "    if (m >= 5) & (m < 10):\n",
    "        path = r\"C:\\Users\\HP\\Documents\\GitHub\\CS-396-Divvy-Bikes\\Data\\20200\"+str(m)+\"-divvy-tripdata.csv\"\n",
    "        input_data = pd.read_csv(path)\n",
    "        split_d = input_data.iloc[:int(len(input_data)*data_per_file)]\n",
    "        data = pd.concat([split_d, input_data], ignore_index = True)\n",
    "    elif m > 10:\n",
    "        path = r\"C:\\Users\\HP\\Documents\\GitHub\\CS-396-Divvy-Bikes\\Data\\2020\"+str(m)+\"-divvy-tripdata.csv\"\n",
    "        input_data = pd.read_csv(path)\n",
    "        split_d = input_data.iloc[:int(len(input_data)*data_per_file)]\n",
    "        data = pd.concat([split_d, input_data], ignore_index = True)"
   ]
  },
  {
   "cell_type": "code",
   "execution_count": 38,
   "metadata": {},
   "outputs": [],
   "source": [
    "data.to_csv(r\"C:\\Users\\HP\\Documents\\GitHub\\CS-396-Divvy-Bikes\\Data\\all-months-divvy-tripdata.csv\")"
   ]
  }
 ],
 "metadata": {
  "interpreter": {
   "hash": "5b6002d1e928962cd19dde4287e8a81266a3dfa22c12012df96bb19a6e27b9c0"
  },
  "kernelspec": {
   "display_name": "Python 3.9.5 ('base')",
   "language": "python",
   "name": "python3"
  },
  "language_info": {
   "codemirror_mode": {
    "name": "ipython",
    "version": 3
   },
   "file_extension": ".py",
   "mimetype": "text/x-python",
   "name": "python",
   "nbconvert_exporter": "python",
   "pygments_lexer": "ipython3",
   "version": "3.9.5"
  },
  "orig_nbformat": 4
 },
 "nbformat": 4,
 "nbformat_minor": 2
}
