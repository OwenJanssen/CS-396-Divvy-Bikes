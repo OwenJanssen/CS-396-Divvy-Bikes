{
 "cells": [
  {
   "cell_type": "markdown",
   "metadata": {},
   "source": [
    "Import All Data Files"
   ]
  },
  {
   "cell_type": "code",
   "execution_count": 14,
   "metadata": {},
   "outputs": [
    {
     "name": "stdout",
     "output_type": "stream",
     "text": [
      "Requirement already satisfied: geopy in c:\\users\\there\\anaconda3\\lib\\site-packages (2.2.0)\n",
      "Requirement already satisfied: geographiclib<2,>=1.49 in c:\\users\\there\\anaconda3\\lib\\site-packages (from geopy) (1.52)\n",
      "                 ride_id  rideable_type        started_at          ended_at  \\\n",
      "0       B9F73448DFBE0D45   classic_bike   1/24/2021 19:15   1/24/2021 19:22   \n",
      "1       457C7F4B5D3DA135  electric_bike   1/23/2021 12:57   1/23/2021 13:02   \n",
      "2       57C750326F9FDABE  electric_bike    1/9/2021 15:28    1/9/2021 15:37   \n",
      "3       4D518C65E338D070  electric_bike    1/9/2021 15:28    1/9/2021 15:37   \n",
      "4       9D08A3AFF410474D   classic_bike   1/24/2021 15:56   1/24/2021 16:07   \n",
      "...                  ...            ...               ...               ...   \n",
      "226175  9D70D78AEF553C46  electric_bike   12/9/2020 18:02   12/9/2020 18:48   \n",
      "226176  9DC34FD8AB4AAF56   classic_bike  12/22/2020 23:59   12/23/2020 0:07   \n",
      "226177  A467B367F2F3923C    docked_bike   12/2/2020 12:36   12/2/2020 12:45   \n",
      "226178  1654D4F3BE89E875   classic_bike   12/9/2020 15:14   12/9/2020 15:24   \n",
      "226179  864B573E1A1DFA6B   classic_bike  12/13/2020 10:59  12/13/2020 11:23   \n",
      "\n",
      "                start_station_name start_station_id  \\\n",
      "0       California Ave & Cortez St            17660   \n",
      "1       California Ave & Cortez St            17660   \n",
      "2       California Ave & Cortez St            17660   \n",
      "3       California Ave & Cortez St            17660   \n",
      "4       California Ave & Cortez St            17660   \n",
      "...                            ...              ...   \n",
      "226175       Broadway & Berwyn Ave            13109   \n",
      "226176        Broadway & Ridge Ave            15578   \n",
      "226177        Broadway & Ridge Ave            15578   \n",
      "226178        Broadway & Ridge Ave            15578   \n",
      "226179        Broadway & Ridge Ave            15578   \n",
      "\n",
      "                   end_station_name end_station_id  start_lat  start_lng  \\\n",
      "0            Wood St & Augusta Blvd            657  41.900363 -87.696704   \n",
      "1        California Ave & North Ave          13258  41.900406 -87.696733   \n",
      "2            Wood St & Augusta Blvd            657  41.900374 -87.696688   \n",
      "3            Wood St & Augusta Blvd            657  41.900379 -87.696716   \n",
      "4            Wood St & Augusta Blvd            657  41.900363 -87.696704   \n",
      "...                             ...            ...        ...        ...   \n",
      "226175      Clark St & Winnemac Ave   TA1309000035  41.978378 -87.659758   \n",
      "226176      Clark St & Winnemac Ave   TA1309000035  41.984045 -87.660274   \n",
      "226177      Clark St & Winnemac Ave   TA1309000035  41.984044 -87.660273   \n",
      "226178      Clark St & Winnemac Ave   TA1309000035  41.984045 -87.660274   \n",
      "226179  Lincoln Ave & Diversey Pkwy   TA1307000064  41.984045 -87.660274   \n",
      "\n",
      "          end_lat    end_lng member_casual   s  Unnamed: 13  \n",
      "0       41.899181 -87.672200        member NaN          NaN  \n",
      "1       41.910435 -87.696890        member NaN          NaN  \n",
      "2       41.899180 -87.672178        casual NaN          NaN  \n",
      "3       41.899149 -87.672177        casual NaN          NaN  \n",
      "4       41.899181 -87.672200        casual NaN          NaN  \n",
      "...           ...        ...           ...  ..          ...  \n",
      "226175  41.973371 -87.667917        member NaN          NaN  \n",
      "226176  41.973348 -87.667855        member NaN          NaN  \n",
      "226177  41.973348 -87.667855        member NaN          NaN  \n",
      "226178  41.973348 -87.667855        member NaN          NaN  \n",
      "226179  41.932225 -87.658617        member NaN          NaN  \n",
      "\n",
      "[226180 rows x 15 columns]\n"
     ]
    }
   ],
   "source": [
    "# import packages\n",
    "#!pip install geopy\n",
    "import pandas as pd\n",
    "import sklearn.neighbors as NN\n",
    "from sklearn.model_selection import train_test_split\n",
    "import numpy as np\n",
    "import matplotlib.pyplot as plt\n",
    "import datetime\n",
    "import re\n",
    "import sklearn.metrics as metrics\n",
    "import geopy.distance\n",
    "import seaborn as sns\n",
    "from matplotlib.colors import ListedColormap\n",
    "\n",
    "data_per_file = 1/13\n",
    "\n",
    "# import data\n",
    "data = pd.DataFrame()\n",
    "lens = []\n",
    "for m in range(1, 13):\n",
    "    path = None # Modify the 3 paths below based on where the data folder is located in your filesystem\n",
    "    if m <= 5:\n",
    "        path = r\"C:\\Users\\there\\CS-396-Divvy-Bikes\\Data\\20210\"+str(m)+\"-divvy-tripdata.csv\"\n",
    "    if (m >= 5) & (m < 10):\n",
    "        path = r\"C:\\Users\\there\\CS-396-Divvy-Bikes\\Data\\20200\"+str(m)+\"-divvy-tripdata.csv\"\n",
    "    elif m >= 10:\n",
    "        path = r\"C:\\Users\\there\\CS-396-Divvy-Bikes\\Data\\2020\"+str(m)+\"-divvy-tripdata.csv\"\n",
    "    input_data = pd.read_csv(path)\n",
    "    split_d = input_data.iloc[:int(len(input_data)*data_per_file)]\n",
    "    data = data.append(split_d, ignore_index=True)\n",
    "print(data)"
   ]
  },
  {
   "cell_type": "code",
   "execution_count": 15,
   "metadata": {},
   "outputs": [],
   "source": [
    "data.to_csv(r\"C:\\Users\\there\\CS-396-Divvy-Bikes\\Data\\all-months-divvy-tripdata.csv\")"
   ]
  },
  {
   "cell_type": "code",
   "execution_count": null,
   "metadata": {},
   "outputs": [],
   "source": []
  }
 ],
 "metadata": {
  "interpreter": {
   "hash": "5b6002d1e928962cd19dde4287e8a81266a3dfa22c12012df96bb19a6e27b9c0"
  },
  "kernelspec": {
   "display_name": "Python 3 (ipykernel)",
   "language": "python",
   "name": "python3"
  },
  "language_info": {
   "codemirror_mode": {
    "name": "ipython",
    "version": 3
   },
   "file_extension": ".py",
   "mimetype": "text/x-python",
   "name": "python",
   "nbconvert_exporter": "python",
   "pygments_lexer": "ipython3",
   "version": "3.9.7"
  }
 },
 "nbformat": 4,
 "nbformat_minor": 2
}
