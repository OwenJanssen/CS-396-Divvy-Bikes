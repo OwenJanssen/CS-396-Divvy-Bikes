{
 "cells": [
  {
   "cell_type": "markdown",
   "metadata": {},
   "source": [
    "Import All Data Files"
   ]
  },
  {
   "cell_type": "code",
   "execution_count": 36,
   "metadata": {},
   "outputs": [
    {
     "name": "stdout",
     "output_type": "stream",
     "text": [
      "221935\n",
      "113541\n"
     ]
    }
   ],
   "source": [
    "# import packages\n",
    "import pandas as pd\n",
    "import sklearn.neighbors as NN\n",
    "from sklearn.model_selection import train_test_split\n",
    "import numpy as np\n",
    "import matplotlib.pyplot as plt\n",
    "import datetime\n",
    "import re\n",
    "import sklearn.metrics as metrics\n",
    "import geopy.distance\n",
    "import seaborn as sns\n",
    "from matplotlib.colors import ListedColormap\n",
    "\n",
    "# import data\n",
    "data = pd.DataFrame()\n",
    "lens = []\n",
    "for m in range(1, 13):\n",
    "    if m <= 5:\n",
    "        path = r\"C:\\Users\\HP\\Documents\\GitHub\\CS-396-Divvy-Bikes\\Data\\20210\"+str(m)+\"-divvy-tripdata.csv\"\n",
    "        input_data = pd.read_csv(path)\n",
    "        split_d = input_data.iloc[:int(len(input_data)/13)]\n",
    "        data = pd.concat([split_d, input_data], ignore_index = True)\n",
    "    if (m >= 5) & (m < 10):\n",
    "        path = r\"C:\\Users\\HP\\Documents\\GitHub\\CS-396-Divvy-Bikes\\Data\\20200\"+str(m)+\"-divvy-tripdata.csv\"\n",
    "        input_data = pd.read_csv(path)\n",
    "        split_d = input_data.iloc[:int(len(input_data)/13)]\n",
    "        data = pd.concat([split_d, input_data], ignore_index = True)\n",
    "    elif m > 10:\n",
    "        path = r\"C:\\Users\\HP\\Documents\\GitHub\\CS-396-Divvy-Bikes\\Data\\2020\"+str(m)+\"-divvy-tripdata.csv\"\n",
    "        input_data = pd.read_csv(path)\n",
    "        split_d = input_data.iloc[:int(len(input_data)/13)]\n",
    "        data = pd.concat([split_d, input_data], ignore_index = True)"
   ]
  },
  {
   "cell_type": "code",
   "execution_count": 37,
   "metadata": {},
   "outputs": [
    {
     "name": "stdout",
     "output_type": "stream",
     "text": [
      "                 ride_id  rideable_type        started_at          ended_at  \\\n",
      "0       70B6A9A437D4C30D   classic_bike  12/27/2020 12:44  12/27/2020 12:55   \n",
      "1       15F369FDAED4E8E3  electric_bike  12/18/2020 13:53  12/18/2020 14:01   \n",
      "2       0CFD61DFE00E6043  electric_bike  12/28/2020 17:10  12/28/2020 17:12   \n",
      "3       244CB936487039B7    docked_bike  12/10/2020 13:36  12/10/2020 14:37   \n",
      "4       B7AD5038F79637F9   classic_bike  12/20/2020 13:09  12/20/2020 13:15   \n",
      "...                  ...            ...               ...               ...   \n",
      "122269  4631EE956BCEA738   classic_bike  12/19/2020 13:59  12/19/2020 14:03   \n",
      "122270  D17CBEDEA8DBDFF6  electric_bike  12/20/2020 15:48  12/20/2020 15:52   \n",
      "122271  447A6C67E9AF962E    docked_bike   12/2/2020 16:59   12/2/2020 17:08   \n",
      "122272  F558C17E95751C62  electric_bike  12/20/2020 18:06  12/20/2020 18:09   \n",
      "122273  E1888F4B274EEA12  electric_bike    12/3/2020 9:43    12/3/2020 9:47   \n",
      "\n",
      "                start_station_name start_station_id  \\\n",
      "0       Aberdeen St & Jackson Blvd            13157   \n",
      "1       Larrabee St & Armitage Ave     TA1309000006   \n",
      "2         Kingsbury St & Kinzie St     KA1503000043   \n",
      "3            Clark St & Leland Ave     TA1309000014   \n",
      "4          Dearborn St & Monroe St     TA1305000006   \n",
      "...                            ...              ...   \n",
      "122269        Rhodes Ave & 32nd St            13215   \n",
      "122270        Rhodes Ave & 32nd St            13215   \n",
      "122271        Rhodes Ave & 32nd St            13215   \n",
      "122272        Rhodes Ave & 32nd St            13215   \n",
      "122273        Rhodes Ave & 32nd St            13215   \n",
      "\n",
      "                 end_station_name end_station_id  start_lat  start_lng  \\\n",
      "0       Desplaines St & Kinzie St   TA1306000003  41.877726 -87.654787   \n",
      "1            Wells St & Walton St   TA1306000011  41.918112 -87.643799   \n",
      "2       Desplaines St & Kinzie St   TA1306000003  41.889193 -87.638576   \n",
      "3           Clark St & Leland Ave   TA1309000014  41.967096 -87.667429   \n",
      "4        Kingsbury St & Kinzie St   KA1503000043  41.881320 -87.629521   \n",
      "...                           ...            ...        ...        ...   \n",
      "122269      Indiana Ave & 31st St   TA1308000036  41.836208 -87.613533   \n",
      "122270      Indiana Ave & 31st St   TA1308000036  41.836723 -87.613365   \n",
      "122271      Indiana Ave & 31st St   TA1308000036  41.836208 -87.613533   \n",
      "122272      Indiana Ave & 31st St   TA1308000036  41.836734 -87.613394   \n",
      "122273      Indiana Ave & 31st St   TA1308000036  41.836766 -87.613366   \n",
      "\n",
      "          end_lat    end_lng member_casual  \n",
      "0       41.888716 -87.644448        member  \n",
      "1       41.900129 -87.634448        member  \n",
      "2       41.889099 -87.642479        member  \n",
      "3       41.967096 -87.667429        casual  \n",
      "4       41.889177 -87.638506        member  \n",
      "...           ...        ...           ...  \n",
      "122269  41.838842 -87.621857        casual  \n",
      "122270  41.838723 -87.621854        member  \n",
      "122271  41.838842 -87.621857        member  \n",
      "122272  41.838749 -87.621862        member  \n",
      "122273  41.838681 -87.621854        member  \n",
      "\n",
      "[122274 rows x 13 columns]\n"
     ]
    }
   ],
   "source": [
    "data.to_csv(r\"C:\\Users\\HP\\Documents\\GitHub\\CS-396-Divvy-Bikes\\Data\\all-months-divvy-tripdata.csv\")"
   ]
  }
 ],
 "metadata": {
  "interpreter": {
   "hash": "5b6002d1e928962cd19dde4287e8a81266a3dfa22c12012df96bb19a6e27b9c0"
  },
  "kernelspec": {
   "display_name": "Python 3.9.5 ('base')",
   "language": "python",
   "name": "python3"
  },
  "language_info": {
   "codemirror_mode": {
    "name": "ipython",
    "version": 3
   },
   "file_extension": ".py",
   "mimetype": "text/x-python",
   "name": "python",
   "nbconvert_exporter": "python",
   "pygments_lexer": "ipython3",
   "version": "3.9.5"
  },
  "orig_nbformat": 4
 },
 "nbformat": 4,
 "nbformat_minor": 2
}
