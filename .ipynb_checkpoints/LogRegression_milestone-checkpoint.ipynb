{
 "cells": [
  {
   "cell_type": "markdown",
   "id": "e1d87c84-4ccd-49f8-a822-fb333ddc2ce2",
   "metadata": {},
   "source": [
    "## Import packages here"
   ]
  },
  {
   "cell_type": "code",
   "execution_count": 20,
   "id": "d9a3cf8a-67e4-42e8-9bb4-d12501978846",
   "metadata": {},
   "outputs": [],
   "source": [
    "import pandas as pd\n",
    "import numpy as np\n",
    "from scipy import stats\n",
    "import matplotlib.pyplot as plt\n",
    "import datetime\n",
    "from apyori import apriori\n",
    "import re\n",
    "import sklearn.metrics as metrics\n",
    "import geopy.distance\n",
    "from sklearn.model_selection import train_test_split\n",
    "from sklearn.linear_model import LogisticRegression\n",
    "\n"
   ]
  },
  {
   "cell_type": "markdown",
   "id": "d46fd925-f908-452e-bf8d-0f6e977f431f",
   "metadata": {},
   "source": [
    "## Load data into Pandas dataframe"
   ]
  },
  {
   "cell_type": "code",
   "execution_count": 4,
   "id": "f4854845-c583-4146-b379-0474e83dd0b2",
   "metadata": {},
   "outputs": [
    {
     "data": {
      "text/html": [
       "<div>\n",
       "<style scoped>\n",
       "    .dataframe tbody tr th:only-of-type {\n",
       "        vertical-align: middle;\n",
       "    }\n",
       "\n",
       "    .dataframe tbody tr th {\n",
       "        vertical-align: top;\n",
       "    }\n",
       "\n",
       "    .dataframe thead th {\n",
       "        text-align: right;\n",
       "    }\n",
       "</style>\n",
       "<table border=\"1\" class=\"dataframe\">\n",
       "  <thead>\n",
       "    <tr style=\"text-align: right;\">\n",
       "      <th></th>\n",
       "      <th>ride_id</th>\n",
       "      <th>rideable_type</th>\n",
       "      <th>started_at</th>\n",
       "      <th>ended_at</th>\n",
       "      <th>start_station_name</th>\n",
       "      <th>start_station_id</th>\n",
       "      <th>end_station_name</th>\n",
       "      <th>end_station_id</th>\n",
       "      <th>start_lat</th>\n",
       "      <th>start_lng</th>\n",
       "      <th>end_lat</th>\n",
       "      <th>end_lng</th>\n",
       "      <th>member_casual</th>\n",
       "    </tr>\n",
       "  </thead>\n",
       "  <tbody>\n",
       "    <tr>\n",
       "      <th>0</th>\n",
       "      <td>0F3AE375DEC608D9</td>\n",
       "      <td>classic_bike</td>\n",
       "      <td>5/2/2021 8:21</td>\n",
       "      <td>5/2/2021 9:20</td>\n",
       "      <td>Michigan Ave &amp; Oak St</td>\n",
       "      <td>13042</td>\n",
       "      <td>Michigan Ave &amp; Oak St</td>\n",
       "      <td>13042</td>\n",
       "      <td>41.900960</td>\n",
       "      <td>-87.623777</td>\n",
       "      <td>41.900960</td>\n",
       "      <td>-87.623777</td>\n",
       "      <td>casual</td>\n",
       "    </tr>\n",
       "    <tr>\n",
       "      <th>1</th>\n",
       "      <td>43E916C72D4C77B3</td>\n",
       "      <td>electric_bike</td>\n",
       "      <td>5/1/2021 22:15</td>\n",
       "      <td>5/1/2021 22:51</td>\n",
       "      <td>Michigan Ave &amp; Oak St</td>\n",
       "      <td>13042</td>\n",
       "      <td>Michigan Ave &amp; Oak St</td>\n",
       "      <td>13042</td>\n",
       "      <td>41.901037</td>\n",
       "      <td>-87.623789</td>\n",
       "      <td>41.900775</td>\n",
       "      <td>-87.623852</td>\n",
       "      <td>casual</td>\n",
       "    </tr>\n",
       "    <tr>\n",
       "      <th>2</th>\n",
       "      <td>2AAB47362E76AC7F</td>\n",
       "      <td>electric_bike</td>\n",
       "      <td>5/31/2021 0:50</td>\n",
       "      <td>5/31/2021 0:56</td>\n",
       "      <td>Clark St &amp; Grace St</td>\n",
       "      <td>TA1307000127</td>\n",
       "      <td>Clark St &amp; Leland Ave</td>\n",
       "      <td>TA1309000014</td>\n",
       "      <td>41.950929</td>\n",
       "      <td>-87.659147</td>\n",
       "      <td>41.967092</td>\n",
       "      <td>-87.667394</td>\n",
       "      <td>casual</td>\n",
       "    </tr>\n",
       "    <tr>\n",
       "      <th>3</th>\n",
       "      <td>344011882FBBB8BD</td>\n",
       "      <td>classic_bike</td>\n",
       "      <td>5/31/2021 7:35</td>\n",
       "      <td>5/31/2021 8:33</td>\n",
       "      <td>Sheridan Rd &amp; Noyes St (NU)</td>\n",
       "      <td>604</td>\n",
       "      <td>Sheridan Rd &amp; Noyes St (NU)</td>\n",
       "      <td>604</td>\n",
       "      <td>42.058239</td>\n",
       "      <td>-87.677432</td>\n",
       "      <td>42.058239</td>\n",
       "      <td>-87.677432</td>\n",
       "      <td>casual</td>\n",
       "    </tr>\n",
       "    <tr>\n",
       "      <th>4</th>\n",
       "      <td>238E58CAB07FA2A8</td>\n",
       "      <td>electric_bike</td>\n",
       "      <td>5/2/2021 16:55</td>\n",
       "      <td>5/2/2021 16:57</td>\n",
       "      <td>Michigan Ave &amp; Oak St</td>\n",
       "      <td>13042</td>\n",
       "      <td>Michigan Ave &amp; Oak St</td>\n",
       "      <td>13042</td>\n",
       "      <td>41.900995</td>\n",
       "      <td>-87.623736</td>\n",
       "      <td>41.900992</td>\n",
       "      <td>-87.623726</td>\n",
       "      <td>casual</td>\n",
       "    </tr>\n",
       "  </tbody>\n",
       "</table>\n",
       "</div>"
      ],
      "text/plain": [
       "            ride_id  rideable_type      started_at        ended_at  \\\n",
       "0  0F3AE375DEC608D9   classic_bike   5/2/2021 8:21   5/2/2021 9:20   \n",
       "1  43E916C72D4C77B3  electric_bike  5/1/2021 22:15  5/1/2021 22:51   \n",
       "2  2AAB47362E76AC7F  electric_bike  5/31/2021 0:50  5/31/2021 0:56   \n",
       "3  344011882FBBB8BD   classic_bike  5/31/2021 7:35  5/31/2021 8:33   \n",
       "4  238E58CAB07FA2A8  electric_bike  5/2/2021 16:55  5/2/2021 16:57   \n",
       "\n",
       "            start_station_name start_station_id             end_station_name  \\\n",
       "0        Michigan Ave & Oak St            13042        Michigan Ave & Oak St   \n",
       "1        Michigan Ave & Oak St            13042        Michigan Ave & Oak St   \n",
       "2          Clark St & Grace St     TA1307000127        Clark St & Leland Ave   \n",
       "3  Sheridan Rd & Noyes St (NU)              604  Sheridan Rd & Noyes St (NU)   \n",
       "4        Michigan Ave & Oak St            13042        Michigan Ave & Oak St   \n",
       "\n",
       "  end_station_id  start_lat  start_lng    end_lat    end_lng member_casual  \n",
       "0          13042  41.900960 -87.623777  41.900960 -87.623777        casual  \n",
       "1          13042  41.901037 -87.623789  41.900775 -87.623852        casual  \n",
       "2   TA1309000014  41.950929 -87.659147  41.967092 -87.667394        casual  \n",
       "3            604  42.058239 -87.677432  42.058239 -87.677432        casual  \n",
       "4          13042  41.900995 -87.623736  41.900992 -87.623726        casual  "
      ]
     },
     "execution_count": 4,
     "metadata": {},
     "output_type": "execute_result"
    }
   ],
   "source": [
    "df = pd.read_csv(r\"./data/202105-divvy-tripdata.csv\")\n",
    "df.head()"
   ]
  },
  {
   "cell_type": "markdown",
   "id": "44abf686-e8eb-46b7-9a0e-c6cd4e1770d0",
   "metadata": {},
   "source": [
    "## Helper functions"
   ]
  },
  {
   "cell_type": "code",
   "execution_count": 5,
   "id": "164d4fc2-1683-4c91-8b52-0ae2dfe5a0a7",
   "metadata": {},
   "outputs": [],
   "source": [
    "def subtractTime(startStr, endStr):\n",
    "    startVec = re.split(r'\\D+', startStr)\n",
    "    endVec = re.split(r'\\D+', endStr)\n",
    "    for i in range(5):\n",
    "        startVec[i] = int(startVec[i])\n",
    "        endVec[i] = int(endVec[i])\n",
    "    start = datetime.datetime(startVec[2], startVec[0], startVec[1], startVec[3], startVec[4])\n",
    "    end = datetime.datetime(endVec[2], endVec[0], endVec[1], endVec[3], endVec[4])\n",
    "    duration = end-start\n",
    "    return duration"
   ]
  },
  {
   "cell_type": "code",
   "execution_count": 6,
   "id": "070ae653-8978-44fc-8fc6-bf9e0e9be695",
   "metadata": {},
   "outputs": [],
   "source": [
    "# takes two sets of latitude and longitude and outputs a distance in miles\n",
    "def geoDistance(sLat, sLon, eLat, eLon):\n",
    "    c1 = (sLat, sLon)\n",
    "    c2 = (eLat, eLon)\n",
    "    return geopy.distance.distance(c1, c2).miles"
   ]
  },
  {
   "cell_type": "code",
   "execution_count": 7,
   "id": "b7c4ba9e-000e-48e5-9991-b5e667865e28",
   "metadata": {},
   "outputs": [],
   "source": [
    "def durationInMin(startStr, endStr):\n",
    "    dur = subtractTime(startStr, endStr)\n",
    "    return dur.days*24*60 + dur.seconds/60\n"
   ]
  },
  {
   "cell_type": "code",
   "execution_count": 8,
   "id": "ede656c6-e279-4143-a306-df31bab752b7",
   "metadata": {},
   "outputs": [],
   "source": [
    "def rideDistance(stStId, eStId, sLat, sLon, eLat, eLon):\n",
    "    if stStId == eStId:\n",
    "        return 0\n",
    "    else:\n",
    "        return geoDistance(sLat, sLon, eLat, eLon)"
   ]
  },
  {
   "cell_type": "code",
   "execution_count": 36,
   "id": "85a9b2e6-373d-4c60-a6dc-19929b971897",
   "metadata": {},
   "outputs": [],
   "source": [
    "def rideTypeToInt(rType):\n",
    "    if rType == 'classic_bike':\n",
    "        return 0\n",
    "    elif rType == 'electric_bike':\n",
    "        return 1\n",
    "    else:\n",
    "        return 2"
   ]
  },
  {
   "cell_type": "markdown",
   "id": "2c7ab5a4-0b72-486f-a867-2fc157d926dd",
   "metadata": {},
   "source": [
    "## Predict member or casual using ride duration, displacement, and bike type"
   ]
  },
  {
   "cell_type": "code",
   "execution_count": 37,
   "id": "2babd472-1635-409d-aad0-ddb33cac3b72",
   "metadata": {},
   "outputs": [
    {
     "data": {
      "text/html": [
       "<div>\n",
       "<style scoped>\n",
       "    .dataframe tbody tr th:only-of-type {\n",
       "        vertical-align: middle;\n",
       "    }\n",
       "\n",
       "    .dataframe tbody tr th {\n",
       "        vertical-align: top;\n",
       "    }\n",
       "\n",
       "    .dataframe thead th {\n",
       "        text-align: right;\n",
       "    }\n",
       "</style>\n",
       "<table border=\"1\" class=\"dataframe\">\n",
       "  <thead>\n",
       "    <tr style=\"text-align: right;\">\n",
       "      <th></th>\n",
       "      <th>ride_id</th>\n",
       "      <th>rideable_type</th>\n",
       "      <th>started_at</th>\n",
       "      <th>ended_at</th>\n",
       "      <th>start_station_name</th>\n",
       "      <th>start_station_id</th>\n",
       "      <th>end_station_name</th>\n",
       "      <th>end_station_id</th>\n",
       "      <th>start_lat</th>\n",
       "      <th>start_lng</th>\n",
       "      <th>end_lat</th>\n",
       "      <th>end_lng</th>\n",
       "      <th>member_casual</th>\n",
       "      <th>ride_duration</th>\n",
       "      <th>ride_distance</th>\n",
       "      <th>ride_type_int</th>\n",
       "    </tr>\n",
       "  </thead>\n",
       "  <tbody>\n",
       "    <tr>\n",
       "      <th>0</th>\n",
       "      <td>0F3AE375DEC608D9</td>\n",
       "      <td>classic_bike</td>\n",
       "      <td>5/2/2021 8:21</td>\n",
       "      <td>5/2/2021 9:20</td>\n",
       "      <td>Michigan Ave &amp; Oak St</td>\n",
       "      <td>13042</td>\n",
       "      <td>Michigan Ave &amp; Oak St</td>\n",
       "      <td>13042</td>\n",
       "      <td>41.900960</td>\n",
       "      <td>-87.623777</td>\n",
       "      <td>41.900960</td>\n",
       "      <td>-87.623777</td>\n",
       "      <td>casual</td>\n",
       "      <td>59.0</td>\n",
       "      <td>0.000000</td>\n",
       "      <td>0</td>\n",
       "    </tr>\n",
       "    <tr>\n",
       "      <th>1</th>\n",
       "      <td>43E916C72D4C77B3</td>\n",
       "      <td>electric_bike</td>\n",
       "      <td>5/1/2021 22:15</td>\n",
       "      <td>5/1/2021 22:51</td>\n",
       "      <td>Michigan Ave &amp; Oak St</td>\n",
       "      <td>13042</td>\n",
       "      <td>Michigan Ave &amp; Oak St</td>\n",
       "      <td>13042</td>\n",
       "      <td>41.901037</td>\n",
       "      <td>-87.623789</td>\n",
       "      <td>41.900775</td>\n",
       "      <td>-87.623852</td>\n",
       "      <td>casual</td>\n",
       "      <td>36.0</td>\n",
       "      <td>0.000000</td>\n",
       "      <td>1</td>\n",
       "    </tr>\n",
       "    <tr>\n",
       "      <th>2</th>\n",
       "      <td>2AAB47362E76AC7F</td>\n",
       "      <td>electric_bike</td>\n",
       "      <td>5/31/2021 0:50</td>\n",
       "      <td>5/31/2021 0:56</td>\n",
       "      <td>Clark St &amp; Grace St</td>\n",
       "      <td>TA1307000127</td>\n",
       "      <td>Clark St &amp; Leland Ave</td>\n",
       "      <td>TA1309000014</td>\n",
       "      <td>41.950929</td>\n",
       "      <td>-87.659147</td>\n",
       "      <td>41.967092</td>\n",
       "      <td>-87.667394</td>\n",
       "      <td>casual</td>\n",
       "      <td>6.0</td>\n",
       "      <td>1.193686</td>\n",
       "      <td>1</td>\n",
       "    </tr>\n",
       "    <tr>\n",
       "      <th>3</th>\n",
       "      <td>344011882FBBB8BD</td>\n",
       "      <td>classic_bike</td>\n",
       "      <td>5/31/2021 7:35</td>\n",
       "      <td>5/31/2021 8:33</td>\n",
       "      <td>Sheridan Rd &amp; Noyes St (NU)</td>\n",
       "      <td>604</td>\n",
       "      <td>Sheridan Rd &amp; Noyes St (NU)</td>\n",
       "      <td>604</td>\n",
       "      <td>42.058239</td>\n",
       "      <td>-87.677432</td>\n",
       "      <td>42.058239</td>\n",
       "      <td>-87.677432</td>\n",
       "      <td>casual</td>\n",
       "      <td>58.0</td>\n",
       "      <td>0.000000</td>\n",
       "      <td>0</td>\n",
       "    </tr>\n",
       "    <tr>\n",
       "      <th>4</th>\n",
       "      <td>238E58CAB07FA2A8</td>\n",
       "      <td>electric_bike</td>\n",
       "      <td>5/2/2021 16:55</td>\n",
       "      <td>5/2/2021 16:57</td>\n",
       "      <td>Michigan Ave &amp; Oak St</td>\n",
       "      <td>13042</td>\n",
       "      <td>Michigan Ave &amp; Oak St</td>\n",
       "      <td>13042</td>\n",
       "      <td>41.900995</td>\n",
       "      <td>-87.623736</td>\n",
       "      <td>41.900992</td>\n",
       "      <td>-87.623726</td>\n",
       "      <td>casual</td>\n",
       "      <td>2.0</td>\n",
       "      <td>0.000000</td>\n",
       "      <td>1</td>\n",
       "    </tr>\n",
       "  </tbody>\n",
       "</table>\n",
       "</div>"
      ],
      "text/plain": [
       "            ride_id  rideable_type      started_at        ended_at  \\\n",
       "0  0F3AE375DEC608D9   classic_bike   5/2/2021 8:21   5/2/2021 9:20   \n",
       "1  43E916C72D4C77B3  electric_bike  5/1/2021 22:15  5/1/2021 22:51   \n",
       "2  2AAB47362E76AC7F  electric_bike  5/31/2021 0:50  5/31/2021 0:56   \n",
       "3  344011882FBBB8BD   classic_bike  5/31/2021 7:35  5/31/2021 8:33   \n",
       "4  238E58CAB07FA2A8  electric_bike  5/2/2021 16:55  5/2/2021 16:57   \n",
       "\n",
       "            start_station_name start_station_id             end_station_name  \\\n",
       "0        Michigan Ave & Oak St            13042        Michigan Ave & Oak St   \n",
       "1        Michigan Ave & Oak St            13042        Michigan Ave & Oak St   \n",
       "2          Clark St & Grace St     TA1307000127        Clark St & Leland Ave   \n",
       "3  Sheridan Rd & Noyes St (NU)              604  Sheridan Rd & Noyes St (NU)   \n",
       "4        Michigan Ave & Oak St            13042        Michigan Ave & Oak St   \n",
       "\n",
       "  end_station_id  start_lat  start_lng    end_lat    end_lng member_casual  \\\n",
       "0          13042  41.900960 -87.623777  41.900960 -87.623777        casual   \n",
       "1          13042  41.901037 -87.623789  41.900775 -87.623852        casual   \n",
       "2   TA1309000014  41.950929 -87.659147  41.967092 -87.667394        casual   \n",
       "3            604  42.058239 -87.677432  42.058239 -87.677432        casual   \n",
       "4          13042  41.900995 -87.623736  41.900992 -87.623726        casual   \n",
       "\n",
       "   ride_duration  ride_distance  ride_type_int  \n",
       "0           59.0       0.000000              0  \n",
       "1           36.0       0.000000              1  \n",
       "2            6.0       1.193686              1  \n",
       "3           58.0       0.000000              0  \n",
       "4            2.0       0.000000              1  "
      ]
     },
     "execution_count": 37,
     "metadata": {},
     "output_type": "execute_result"
    }
   ],
   "source": [
    "df[\"ride_duration\"] = df.apply(lambda x: durationInMin(x[\"started_at\"], x[\"ended_at\"]), axis=1)\n",
    "\n",
    "df[\"ride_distance\"] = df.apply(lambda x: rideDistance(x[\"start_station_id\"], x[\"end_station_id\"], x[\"start_lat\"], x[\"start_lng\"], x[\"end_lat\"], x[\"end_lng\"]), axis=1)\n",
    "\n",
    "df[\"ride_type_int\"] = df[\"rideable_type\"].apply(rideTypeToInt)\n",
    "\n",
    "df.head()\n"
   ]
  },
  {
   "cell_type": "code",
   "execution_count": 38,
   "id": "fdc4ec67-e6fd-44df-9664-a934b4a3f287",
   "metadata": {},
   "outputs": [
    {
     "data": {
      "image/png": "[encoded data removed]",
      "text/plain": [
       "<Figure size 432x288 with 1 Axes>"
      ]
     },
     "metadata": {
      "needs_background": "light"
     },
     "output_type": "display_data"
    }
   ],
   "source": [
    "sample_rows = df.sample(500)\n",
    "sample_rows.plot.scatter(x=\"ride_duration\", y=\"ride_distance\")\n",
    "\n",
    "ax = plt.subplot(2, 2, 4)\n",
    "ax.set_yscale('log')\n",
    "ax.set_xscale('log')\n",
    "plt.scatter(sample_rows[\"ride_duration\"], sample_rows[\"ride_distance\"])\n",
    "ax.set_ylabel(\"Distance (miles)\")\n",
    "ax.set_xlabel(\"Duration (minutes)\")\n",
    "plt.show()"
   ]
  },
  {
   "cell_type": "code",
   "execution_count": 39,
   "id": "181d9e95-6150-4a1d-8fd5-c0eb166b93e6",
   "metadata": {},
   "outputs": [
    {
     "data": {
      "image/png": "[encoded data removed]",
      "text/plain": [
       "<Figure size 432x288 with 1 Axes>"
      ]
     },
     "metadata": {
      "needs_background": "light"
     },
     "output_type": "display_data"
    }
   ],
   "source": [
    "fig = plt.figure()\n",
    "ax = fig.add_axes([0,0,1,1])\n",
    "plt.title(\"Number of Round Trip and One Way Rides\")\n",
    "langs = ['Round Trip', 'One Way']\n",
    "counts = [len(df[df[\"ride_distance\"] == 0]), len(df[df[\"ride_distance\"] != 0])]\n",
    "ax.bar(langs,counts)\n",
    "plt.show()"
   ]
  },
  {
   "cell_type": "code",
   "execution_count": 40,
   "id": "61df5ce6-a57e-44ae-9bc8-c3b5ce398782",
   "metadata": {},
   "outputs": [
    {
     "data": {
      "image/png": "[encoded data removed]",
      "text/plain": [
       "<Figure size 432x288 with 1 Axes>"
      ]
     },
     "metadata": {
      "needs_background": "light"
     },
     "output_type": "display_data"
    }
   ],
   "source": [
    "fig = plt.figure()\n",
    "ax = fig.add_axes([0,0,1,1])\n",
    "plt.title(\"Rides per type of bikes\")\n",
    "langs = ['Classic Bike', 'Electric Bike', 'Docked Bike']\n",
    "counts = [len(df[df[\"ride_type_int\"] == 0]), len(df[df[\"ride_type_int\"] == 1]), len(df[df[\"ride_type_int\"] == 2])]\n",
    "ax.bar(langs,counts)\n",
    "plt.show()"
   ]
  },
  {
   "cell_type": "code",
   "execution_count": 41,
   "id": "644def39-7cff-4530-abc5-f8e28b7f65f3",
   "metadata": {},
   "outputs": [
    {
     "data": {
      "text/plain": [
       "0.6744287737335801"
      ]
     },
     "execution_count": 41,
     "metadata": {},
     "output_type": "execute_result"
    }
   ],
   "source": [
    "df_regress_data = df[[\"ride_distance\", \"ride_duration\", \"ride_type_int\"]]\n",
    "\n",
    "X_train, X_test, y_train, y_test = train_test_split(df_regress_data, df[\"member_casual\"], test_size = 0.999)\n",
    "\n",
    "clf = LogisticRegression(random_state=0).fit(X_train, y_train)\n",
    "\n",
    "clf.score(X_test, y_test)\n",
    "\n",
    "# df_regress_data.head()"
   ]
  },
  {
   "cell_type": "code",
   "execution_count": 48,
   "id": "4b581327-3d6c-43b9-a772-56550aef4c41",
   "metadata": {},
   "outputs": [
    {
     "name": "stdout",
     "output_type": "stream",
     "text": [
      "one_way        False    True\n",
      "member_casual               \n",
      "casual         31293  185529\n",
      "member         11338  222812\n",
      "chi2 value: 12095.673648788681\n",
      "p value: 0.0\n"
     ]
    }
   ],
   "source": [
    "def rt_or_ow(dist):\n",
    "    return dist > 0\n",
    "\n",
    "#create new column with calculation of years elite\n",
    "df[\"one_way\"] = df[\"ride_distance\"].apply(rt_or_ow)\n",
    "\n",
    "table = pd.crosstab(df['member_casual'], df['one_way'])\n",
    "\n",
    "print(table)\n",
    "\n",
    "chi2, p, dof, expected = stats.chi2_contingency(table)\n",
    "print(\"chi2 value: \" + str(chi2))\n",
    "print(\"p value: \" + str(p))"
   ]
  },
  {
   "cell_type": "code",
   "execution_count": 49,
   "id": "3c79a934-7f07-4cd4-8235-213c5812e12b",
   "metadata": {},
   "outputs": [
    {
     "name": "stdout",
     "output_type": "stream",
     "text": [
      "ride_type_int       0      1      2\n",
      "member_casual                      \n",
      "casual         123467  50008  43347\n",
      "member         184849  49301      0\n",
      "chi2 value: 54987.82720607011\n",
      "p value: 0.0\n"
     ]
    }
   ],
   "source": [
    "table = pd.crosstab(df['member_casual'], df['ride_type_int'])\n",
    "\n",
    "chi2, p, dof, expected = stats.chi2_contingency(table)\n",
    "print(table)\n",
    "print(\"chi2 value: \" + str(chi2))\n",
    "print(\"p value: \" + str(p))"
   ]
  },
  {
   "cell_type": "code",
   "execution_count": null,
   "id": "7e9a48a0-3800-447e-ae62-e25eecc708e4",
   "metadata": {},
   "outputs": [],
   "source": []
  }
 ],
 "metadata": {
  "kernelspec": {
   "display_name": "Python 3 (ipykernel)",
   "language": "python",
   "name": "python3"
  },
  "language_info": {
   "codemirror_mode": {
    "name": "ipython",
    "version": 3
   },
   "file_extension": ".py",
   "mimetype": "text/x-python",
   "name": "python",
   "nbconvert_exporter": "python",
   "pygments_lexer": "ipython3",
   "version": "3.9.7"
  }
 },
 "nbformat": 4,
 "nbformat_minor": 5
}
