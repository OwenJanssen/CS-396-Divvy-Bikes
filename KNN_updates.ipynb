{
 "cells": [
  {
   "cell_type": "markdown",
   "metadata": {},
   "source": [
    "KNN Analysis of May 2021 Divvy Data"
   ]
  },
  {
   "cell_type": "code",
   "execution_count": 97,
   "metadata": {},
   "outputs": [],
   "source": [
    "# import packages\n",
    "import pandas as pd\n",
    "\n",
    "from sklearn.neighbors import KNeighborsClassifier\n",
    "from sklearn.linear_model import Perceptron\n",
    "from sklearn.tree import DecisionTreeClassifier, plot_tree\n",
    "from sklearn.ensemble import RandomForestClassifier, ExtraTreesClassifier\n",
    "\n",
    "from sklearn.model_selection import cross_validate\n",
    "import sklearn.metrics as metrics\n",
    "from sklearn.feature_selection import chi2\n",
    "from sklearn.model_selection import train_test_split\n",
    "from sklearn.preprocessing import normalize\n",
    "\n",
    "from scipy import stats\n",
    "import numpy as np\n",
    "import matplotlib.pyplot as plt\n",
    "import seaborn as sns\n",
    "from matplotlib.colors import ListedColormap"
   ]
  },
  {
   "cell_type": "code",
   "execution_count": 86,
   "metadata": {},
   "outputs": [
    {
     "name": "stderr",
     "output_type": "stream",
     "text": [
      "C:\\Users\\HP\\AppData\\Local\\Temp\\ipykernel_28904\\280532713.py:2: DtypeWarning: Columns (6,8) have mixed types. Specify dtype option on import or set low_memory=False.\n",
      "  data = pd.read_csv(r\"C:\\Users\\HP\\Documents\\GitHub\\CS-396-Divvy-Bikes\\Data\\all-months-divvy-tripdata.csv\")\n"
     ]
    }
   ],
   "source": [
    "# import data\n",
    "data = pd.read_csv(r\"C:\\Users\\HP\\Documents\\GitHub\\CS-396-Divvy-Bikes\\Data\\all-months-divvy-tripdata.csv\")"
   ]
  },
  {
   "cell_type": "markdown",
   "metadata": {},
   "source": [
    "Create Data For Distance and Duration"
   ]
  },
  {
   "cell_type": "code",
   "execution_count": 87,
   "metadata": {},
   "outputs": [],
   "source": [
    "membership = data['member_casual']\n",
    "member_bool = np.ndarray(membership.size)\n",
    "for i in range(membership.size):\n",
    "    if membership[i] == 'member':\n",
    "        member_bool[i] = True\n",
    "    else:\n",
    "        member_bool[i] = False\n",
    "\n",
    "duration = data['duration']\n",
    "distance = data['distance']\n",
    "start_hour = data['start_hour']\n",
    "end_hour = data['end_hour']\n",
    "temp = data['temp']+100\n",
    "precip = data['precip']\n",
    "humid = data['humid']\n",
    "snow_depth = data['snow_depth']"
   ]
  },
  {
   "cell_type": "markdown",
   "metadata": {},
   "source": [
    "Create and test KNN model"
   ]
  },
  {
   "cell_type": "code",
   "execution_count": 88,
   "metadata": {},
   "outputs": [],
   "source": [
    "# Grid search for bagging and gradient boosting regressor, using both linear and polynomial model\n",
    "from sklearn.model_selection import GridSearchCV\n",
    "\n",
    "def grid_search(model, parameters, X_train, y_train, X_test, y_test):\n",
    "  clf = GridSearchCV(model, parameters, cv=5, scoring='f1')\n",
    "  clf.fit(X_train, y_train)\n",
    "  print(clf.score(X_test, y_test))\n",
    "  print(clf.best_score_)\n",
    "  print(clf.best_params_)\n",
    "  return clf"
   ]
  },
  {
   "cell_type": "code",
   "execution_count": 106,
   "metadata": {},
   "outputs": [
    {
     "name": "stdout",
     "output_type": "stream",
     "text": [
      "0.5079629264219307\n",
      "\n",
      "0.5427331887201736\n",
      "0.5308444028551724\n",
      "{'min_samples_leaf': 3, 'min_samples_split': 7}\n"
     ]
    }
   ],
   "source": [
    "features = np.column_stack([distance, duration, start_hour, end_hour, temp, precip, humid, snow_depth])\n",
    "feature_names = ['distance', 'duration', 'start_hour', 'end_hour', 'temp', 'precip', 'humid', 'snow_depth']\n",
    "selected_features = {}\n",
    "chi2s, p_values = chi2(features, member_bool)\n",
    "for i in range(len(feature_names)):\n",
    "    if p_values[i] < 0.05:\n",
    "        selected_features[feature_names[i]] = features[:,i]\n",
    "\n",
    "selected_features = pd.DataFrame.from_dict(selected_features)\n",
    "# print(selected_features.head)\n",
    "X_train, X_test, y_train, y_test = train_test_split(features, member_bool, test_size = 0.20)\n",
    "\n",
    "knn_features = {'n_neighbors': [9, 10, 11, 12, 13]}\n",
    "dt_features = {'min_samples_split': [3, 4, 5, 6, 7], 'min_samples_leaf': [3, 4, 5, 6, 7]}\n",
    "\n",
    "baseline_f1 = metrics.f1_score([True for i in range(len(member_bool))], member_bool)\n",
    "print(str(baseline_f1)+\"\\n\")\n",
    "\n",
    "# best_knn = grid_search(KNeighborsClassifier(weights='distance', p=1), knn_features, X_train, y_train, X_test, y_test).best_estimator_\n",
    "best_dt = grid_search(RandomForestClassifier(criterion='entropy', n_estimators=125, warm_start=True), dt_features, X_train, y_train, X_test, y_test).best_estimator_"
   ]
  },
  {
   "cell_type": "code",
   "execution_count": null,
   "metadata": {},
   "outputs": [],
   "source": []
  }
 ],
 "metadata": {
  "interpreter": {
   "hash": "5b6002d1e928962cd19dde4287e8a81266a3dfa22c12012df96bb19a6e27b9c0"
  },
  "kernelspec": {
   "display_name": "Python 3.9.5 ('base')",
   "language": "python",
   "name": "python3"
  },
  "language_info": {
   "codemirror_mode": {
    "name": "ipython",
    "version": 3
   },
   "file_extension": ".py",
   "mimetype": "text/x-python",
   "name": "python",
   "nbconvert_exporter": "python",
   "pygments_lexer": "ipython3",
   "version": "3.9.5"
  },
  "orig_nbformat": 4
 },
 "nbformat": 4,
 "nbformat_minor": 2
}
